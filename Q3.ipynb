{
  "cells": [
    {
      "cell_type": "markdown",
      "metadata": {
        "id": "a736d316-20aa-4263-84c3-8afc5c4a9cc6"
      },
      "source": [
        "# SMAI Assignment - 3\n",
        "\n",
        "## Question - `3` : Knowing MLPs\n",
        "\n",
        "| | |\n",
        "|- | -|\n",
        "| Course | Statistical Methods in AI |\n",
        "| Release Date | `09.03.2023` |\n",
        "| Due Date | `24.03.2023` |"
      ],
      "id": "a736d316-20aa-4263-84c3-8afc5c4a9cc6"
    },
    {
      "cell_type": "markdown",
      "metadata": {
        "id": "1c86307a-7690-40cf-9eb2-e29fab7b15b5"
      },
      "source": [
        "## Please read the following before moving on\n",
        "\n",
        "Welcome to the world of Multilayer Perceptrons (MLP)! You already know that MLPs are feedforward neural networks consisting of multiple layers of nodes or neurons. These networks are well-suited for a wide range of classification and regression tasks, thanks to their ability to learn complex, non-linear relationships between inputs and outputs.\n",
        "\n",
        "In this assignment, we will be working with the MNIST dataset to explore the importance of different MLP components. The MNIST dataset consists of 70,000 handwritten digit images, each of which is 28x28 pixels in size. Our goal is to use an MLP to classify these images into one of 10 categories (0-9).\n",
        "\n",
        "To improve the performance of our MLP, we will experiment with various techniques such as Dropout, Batch Normalization, Loss Functions, Stochastic batch and mini-batch gradient descent, and more. Please note, you must use mini-batch unless explicity specified.\n",
        "\n",
        "In addition, we will experiment with different optimization algorithms such as stochastic gradient descent, Adam, and RMSprop to find the optimal weights and biases for our MLP. We will use stochastic batch and mini-batch gradient descent, which involve updating the weights and biases of the network based on a small batch of randomly sampled training examples, to speed up the training process and reduce memory usage.\n",
        "\n",
        "By the end of this assignment, you will have gained a deeper understanding of the various components that make up an MLP and their importance in achieving high performance in classification tasks. You will have gained hands-on experience in experimenting with these components and learned how to fine-tune an MLP to achieve the best possible performance on the MNIST dataset. So, let's get started!\n",
        "\n",
        "🫵Pro-tip: Do not re-write any results so as to re-use them in later experiments for tabulation and plotting.\n",
        "\n",
        "💭Trivia: Did you know code written using ChatGPT is easy to catch?"
      ],
      "id": "1c86307a-7690-40cf-9eb2-e29fab7b15b5"
    },
    {
      "cell_type": "markdown",
      "metadata": {
        "id": "436f25c4"
      },
      "source": [
        "### Step zero: Import Libraries"
      ],
      "id": "436f25c4"
    },
    {
      "cell_type": "code",
      "execution_count": null,
      "metadata": {
        "colab": {
          "base_uri": "https://localhost:8080/"
        },
        "id": "_lbvJA2fcoYs",
        "outputId": "2afdbcca-ddfa-4174-c256-0b540f5d22cf"
      },
      "outputs": [
        {
          "output_type": "stream",
          "name": "stdout",
          "text": [
            "Looking in indexes: https://pypi.org/simple, https://us-python.pkg.dev/colab-wheels/public/simple/\n",
            "Collecting torchmetrics\n",
            "  Downloading torchmetrics-0.11.4-py3-none-any.whl (519 kB)\n",
            "\u001b[2K     \u001b[90m━━━━━━━━━━━━━━━━━━━━━━━━━━━━━━━━━━━━━━\u001b[0m \u001b[32m519.2/519.2 KB\u001b[0m \u001b[31m15.1 MB/s\u001b[0m eta \u001b[36m0:00:00\u001b[0m\n",
            "\u001b[?25hRequirement already satisfied: numpy>=1.17.2 in /usr/local/lib/python3.9/dist-packages (from torchmetrics) (1.22.4)\n",
            "Requirement already satisfied: torch>=1.8.1 in /usr/local/lib/python3.9/dist-packages (from torchmetrics) (1.13.1+cu116)\n",
            "Requirement already satisfied: packaging in /usr/local/lib/python3.9/dist-packages (from torchmetrics) (23.0)\n",
            "Requirement already satisfied: typing-extensions in /usr/local/lib/python3.9/dist-packages (from torch>=1.8.1->torchmetrics) (4.5.0)\n",
            "Installing collected packages: torchmetrics\n",
            "Successfully installed torchmetrics-0.11.4\n"
          ]
        }
      ],
      "source": [
        "!pip install torchmetrics"
      ],
      "id": "_lbvJA2fcoYs"
    },
    {
      "cell_type": "code",
      "execution_count": null,
      "metadata": {
        "id": "1009eb09"
      },
      "outputs": [],
      "source": [
        "import warnings\n",
        "warnings.filterwarnings(\"ignore\")\n",
        "\n",
        "import numpy as np\n",
        "import pandas as pd\n",
        "\n",
        "import matplotlib.pyplot as plt\n",
        "import seaborn as sns\n",
        "%matplotlib inline\n",
        "\n",
        "import torch\n",
        "import torchvision\n",
        "from torchvision import datasets\n",
        "from torchvision import transforms\n",
        "from torch.autograd import Variable\n",
        "import torch.nn as nn\n",
        "\n",
        "from tqdm import tqdm\n",
        "from torchmetrics.classification import MulticlassPrecision, MulticlassRecall, MulticlassF1Score, MulticlassConfusionMatrix\n",
        "from prettytable import PrettyTable"
      ],
      "id": "1009eb09"
    },
    {
      "cell_type": "markdown",
      "metadata": {
        "id": "5e0546f0"
      },
      "source": [
        "### Step one: Using a PyTorch Dataset\n",
        "Load MNIST dataset from `torchvision.datasets`"
      ],
      "id": "5e0546f0"
    },
    {
      "cell_type": "code",
      "execution_count": null,
      "metadata": {
        "colab": {
          "base_uri": "https://localhost:8080/",
          "height": 423,
          "referenced_widgets": [
            "63769d23f42142bea36fd9d2f88a78cb",
            "6fbe903f430f4ed3ac1a2162f6985335",
            "4ff5f1142cf24c8fa9606412743fe7dd",
            "8ea325f8eb974c899044aa8cdde650ef",
            "6af32f5df0944f2f959024cd311c3c22",
            "6368f7d36ab9445498916afe3bf43e7d",
            "89f9b10ba2a54025b6bfe4ff661e82b6",
            "c9cc3cb9f48c41d6b3d1c786b9a0b092",
            "c666eab41fd9482fa7b55475e1bff615",
            "d000b8407ac44726a35f721d0bba6419",
            "86fdd74b5e124a8c864110ed098c9aa4",
            "fe122de8d8af45799bdd8299daf11eb2",
            "e023dd5172b14ba28886d070381153ec",
            "fb57e47ceac7428b9fd64be533c620b8",
            "203ffcc69eba487680f3db90c480045c",
            "e5f306442d2e4dd999310045e3a4f29f",
            "0b38d45eb1a54d3ea7cf151066a52843",
            "9b30f5da2f484aaaaad56ac355e472b7",
            "928f026442aa4b8da25e46170e3623ca",
            "2df3253868cf4758a6918fb5c1d33478",
            "fc543329448d4497a7ef94e24a7511cd",
            "a0ab38782a854b80a4fe533b4e4a2dd5",
            "adbba7395455435c886af5c44237b0d0",
            "849e63be301b4a298beb7548bf597988",
            "2afc15af4ad7408996a802d8f4f3bc0a",
            "bee01650403142d99944bca6cfd37218",
            "5424e48a8b214307a63dbfb0a28dc51e",
            "7935c99625574839935a97e36e221333",
            "3185f7a0b7eb4f6eb61d82a0b51e6905",
            "926889171dd943f399c889fdb058e9f0",
            "9e25f06bb54b4b88b622a63a02647f4f",
            "377bd712df374c40866f8b49b86c355a",
            "05c05b22ddd54935ba67375eade2b81d",
            "db5b81a2a287493e81ecf76b1b6811a4",
            "7f1f3ef2271048519c46d6b65e7fe504",
            "fb9c03683c894145b37a5ccae2430a9b",
            "45b68b0757614d178111b33e8b00803e",
            "04b2071e6ef446508980c9d3d14a393e",
            "731f961d75db4de7b20d4fc685dc42c4",
            "cad8c22c84b6420a816dae74c09e72ea",
            "b3d283933a404be6bb1d6c06a30b8017",
            "361b3480a9e54114bd8af79dd844bfad",
            "03d66e4488594dd78ec65a6c28953044",
            "30c072f5ba8a4e60ac67abf36324f467"
          ]
        },
        "id": "4d54d14d",
        "outputId": "bc024699-718c-4b03-a995-4242613965f3"
      },
      "outputs": [
        {
          "output_type": "stream",
          "name": "stdout",
          "text": [
            "Downloading http://yann.lecun.com/exdb/mnist/train-images-idx3-ubyte.gz\n",
            "Downloading http://yann.lecun.com/exdb/mnist/train-images-idx3-ubyte.gz to data/MNIST/raw/train-images-idx3-ubyte.gz\n"
          ]
        },
        {
          "output_type": "display_data",
          "data": {
            "text/plain": [
              "  0%|          | 0/9912422 [00:00<?, ?it/s]"
            ],
            "application/vnd.jupyter.widget-view+json": {
              "version_major": 2,
              "version_minor": 0,
              "model_id": "63769d23f42142bea36fd9d2f88a78cb"
            }
          },
          "metadata": {}
        },
        {
          "output_type": "stream",
          "name": "stdout",
          "text": [
            "Extracting data/MNIST/raw/train-images-idx3-ubyte.gz to data/MNIST/raw\n",
            "\n",
            "Downloading http://yann.lecun.com/exdb/mnist/train-labels-idx1-ubyte.gz\n",
            "Downloading http://yann.lecun.com/exdb/mnist/train-labels-idx1-ubyte.gz to data/MNIST/raw/train-labels-idx1-ubyte.gz\n"
          ]
        },
        {
          "output_type": "display_data",
          "data": {
            "text/plain": [
              "  0%|          | 0/28881 [00:00<?, ?it/s]"
            ],
            "application/vnd.jupyter.widget-view+json": {
              "version_major": 2,
              "version_minor": 0,
              "model_id": "fe122de8d8af45799bdd8299daf11eb2"
            }
          },
          "metadata": {}
        },
        {
          "output_type": "stream",
          "name": "stdout",
          "text": [
            "Extracting data/MNIST/raw/train-labels-idx1-ubyte.gz to data/MNIST/raw\n",
            "\n",
            "Downloading http://yann.lecun.com/exdb/mnist/t10k-images-idx3-ubyte.gz\n",
            "Downloading http://yann.lecun.com/exdb/mnist/t10k-images-idx3-ubyte.gz to data/MNIST/raw/t10k-images-idx3-ubyte.gz\n"
          ]
        },
        {
          "output_type": "display_data",
          "data": {
            "text/plain": [
              "  0%|          | 0/1648877 [00:00<?, ?it/s]"
            ],
            "application/vnd.jupyter.widget-view+json": {
              "version_major": 2,
              "version_minor": 0,
              "model_id": "adbba7395455435c886af5c44237b0d0"
            }
          },
          "metadata": {}
        },
        {
          "output_type": "stream",
          "name": "stdout",
          "text": [
            "Extracting data/MNIST/raw/t10k-images-idx3-ubyte.gz to data/MNIST/raw\n",
            "\n",
            "Downloading http://yann.lecun.com/exdb/mnist/t10k-labels-idx1-ubyte.gz\n",
            "Downloading http://yann.lecun.com/exdb/mnist/t10k-labels-idx1-ubyte.gz to data/MNIST/raw/t10k-labels-idx1-ubyte.gz\n"
          ]
        },
        {
          "output_type": "display_data",
          "data": {
            "text/plain": [
              "  0%|          | 0/4542 [00:00<?, ?it/s]"
            ],
            "application/vnd.jupyter.widget-view+json": {
              "version_major": 2,
              "version_minor": 0,
              "model_id": "db5b81a2a287493e81ecf76b1b6811a4"
            }
          },
          "metadata": {}
        },
        {
          "output_type": "stream",
          "name": "stdout",
          "text": [
            "Extracting data/MNIST/raw/t10k-labels-idx1-ubyte.gz to data/MNIST/raw\n",
            "\n"
          ]
        }
      ],
      "source": [
        "transform = transforms.Compose([\n",
        "                    transforms.ToTensor(), \n",
        "            ])\n",
        "\n",
        "trainset = datasets.MNIST(\n",
        "    root = 'data',\n",
        "    train = True,                         \n",
        "    transform = transform, \n",
        "    download = True,            \n",
        ")\n",
        "#TODO use datasets.MNIST\n",
        "testset = datasets.MNIST(\n",
        "    root = 'data', \n",
        "    train = False, \n",
        "    transform = transform\n",
        ")\n",
        "#TODO"
      ],
      "id": "4d54d14d"
    },
    {
      "cell_type": "code",
      "execution_count": null,
      "metadata": {
        "colab": {
          "base_uri": "https://localhost:8080/"
        },
        "id": "fjidTD2Xdy76",
        "outputId": "2a909ea3-1e5b-448e-b205-ef21aa87513a"
      },
      "outputs": [
        {
          "output_type": "stream",
          "name": "stdout",
          "text": [
            "45000 15000\n"
          ]
        }
      ],
      "source": [
        "trainsplit = int(0.75 * len(trainset))\n",
        "generator = torch.Generator().manual_seed(1)\n",
        "trainset, validationset=torch.utils.data.random_split(trainset, [trainsplit, len(trainset) - trainsplit], generator=generator)\n",
        "print(len(trainset), len(validationset))"
      ],
      "id": "fjidTD2Xdy76"
    },
    {
      "cell_type": "code",
      "execution_count": null,
      "metadata": {
        "id": "db5bf20a"
      },
      "outputs": [],
      "source": [
        "trainloader_minibatch = torch.utils.data.DataLoader(trainset, batch_size=64\n",
        "                                                    , shuffle=True, num_workers=2)\n",
        "trainloader_stochastic = torch.utils.data.DataLoader(trainset, batch_size=1\n",
        "                                                     , shuffle=True, num_workers=2)\n",
        "testloader_minibatch = torch.utils.data.DataLoader(testset, batch_size=64\n",
        "                                                    , shuffle=True, num_workers=2)\n",
        "testloader_stochastic = torch.utils.data.DataLoader(testset, batch_size=1\n",
        "                                                    , shuffle=True, num_workers=2)\n",
        "validationloader_minibatch = torch.utils.data.DataLoader(validationset, batch_size=64\n",
        "                                                    , shuffle=True, num_workers=2)\n",
        "validationloader_stochastic = torch.utils.data.DataLoader(validationset, batch_size=1\n",
        "                                                    , shuffle=True, num_workers=2)\n",
        "#TODO"
      ],
      "id": "db5bf20a"
    },
    {
      "cell_type": "markdown",
      "metadata": {
        "id": "b25020e7"
      },
      "source": [
        "### Step two: Define a MLP Model and without any bells and whitsles...\n",
        "... along with a CrossEntropy loss criterion \n",
        "\n",
        "Do not use Dropout, BN or any other thing. Use ReLU for hidden layers.\n",
        "\n",
        "⚠️ Do not use SoftMax in the output as nn.CrossEntropyLoss combines SoftMax and NLLLoss."
      ],
      "id": "b25020e7"
    },
    {
      "cell_type": "code",
      "execution_count": null,
      "metadata": {
        "id": "a49dc9a7"
      },
      "outputs": [],
      "source": [
        "class SimpleMLP(nn.Module):\n",
        "  def __init__(self):\n",
        "    super().__init__()\n",
        "    self.layer1 = nn.Linear(28*28, 450)\n",
        "    self.layer2 = nn.Linear(450, 200)\n",
        "    self.layer3 = nn.Linear(200, 10)\n",
        "    self.relu = nn.ReLU()\n",
        "  def forward(self,x):\n",
        "    output = self.layer1(x)\n",
        "    output = self.relu(output)\n",
        "    output = self.layer2(output)\n",
        "    output = self.relu(output)\n",
        "    output = self.layer3(output)\n",
        "    return output"
      ],
      "id": "a49dc9a7"
    },
    {
      "cell_type": "markdown",
      "metadata": {
        "id": "520e81eb"
      },
      "source": [
        "### Step three: Define the following optimizers using nn.optim\n",
        "1. SGD\n",
        "2. SGD with momentum\n",
        "3. SGD with L2 regularization\n",
        "4. RMSprop\n",
        "5. Adam"
      ],
      "id": "520e81eb"
    },
    {
      "cell_type": "code",
      "execution_count": null,
      "metadata": {
        "id": "717fa204"
      },
      "outputs": [],
      "source": [
        "# code here\n",
        "def opt(model, i):\n",
        "  if i == 1:\n",
        "    return 'SGD', torch.optim.SGD(model.parameters(), lr = 0.01)\n",
        "  if i == 2:\n",
        "    return 'SGD with Momentum', torch.optim.SGD(model.parameters(), lr = 0.01, momentum=0.9)\n",
        "  if i == 3:\n",
        "    return 'SGD with L2 Regularization', torch.optim.SGD(model.parameters(), lr = 0.01, weight_decay=0.01)\n",
        "  if i == 4:\n",
        "    return 'RMSprop', torch.optim.RMSprop(model.parameters())\n",
        "  if i == 5:\n",
        "    return 'Adam', torch.optim.Adam(model.parameters())"
      ],
      "id": "717fa204"
    },
    {
      "cell_type": "markdown",
      "metadata": {
        "id": "f5f0f6b8"
      },
      "source": [
        "### Step four: Run the SimpleMLP using different optimizers and plot train and test loss for each optimizer.\n",
        "Explain the results.\n",
        "\n",
        "Report final accuracy, F1 score and other relavant metrics in a tabular form on test and train datasets."
      ],
      "id": "f5f0f6b8"
    },
    {
      "cell_type": "code",
      "execution_count": null,
      "metadata": {
        "colab": {
          "base_uri": "https://localhost:8080/",
          "height": 1000
        },
        "id": "S4b7lF7p2T_-",
        "outputId": "e0b93464-c303-4fcf-8bf5-2b228fb7d44f"
      },
      "outputs": [
        {
          "output_type": "stream",
          "name": "stdout",
          "text": [
            "\n",
            "USING SGD OPTIMISER.\n",
            "\n"
          ]
        },
        {
          "output_type": "display_data",
          "data": {
            "text/plain": [
              "<Figure size 432x288 with 1 Axes>"
            ],
            "image/png": "[encoded data removed]"
          },
          "metadata": {
            "needs_background": "light"
          }
        },
        {
          "output_type": "stream",
          "name": "stdout",
          "text": [
            "Final loss is 0.13296605105543594\n",
            "+-----------+-------------------+\n",
            "|   METRIC  |       Value       |\n",
            "+-----------+-------------------+\n",
            "|  Accuracy |     95.9000 %     |\n",
            "| Precision | 0.800000011920929 |\n",
            "|   Recall  | 0.800000011920929 |\n",
            "|  F1 Score | 0.800000011920929 |\n",
            "+-----------+-------------------+\n"
          ]
        },
        {
          "output_type": "display_data",
          "data": {
            "text/plain": [
              "<Figure size 288x288 with 1 Axes>"
            ],
            "image/png": "[encoded data removed]"
          },
          "metadata": {
            "needs_background": "light"
          }
        },
        {
          "output_type": "stream",
          "name": "stdout",
          "text": [
            "\n",
            "USING SGD with Momentum OPTIMISER.\n",
            "\n"
          ]
        },
        {
          "output_type": "display_data",
          "data": {
            "text/plain": [
              "<Figure size 432x288 with 1 Axes>"
            ],
            "image/png": "[encoded data removed]"
          },
          "metadata": {
            "needs_background": "light"
          }
        },
        {
          "output_type": "stream",
          "name": "stdout",
          "text": [
            "Final loss is 0.0018116228784751083\n",
            "+-----------+-------------------+\n",
            "|   METRIC  |       Value       |\n",
            "+-----------+-------------------+\n",
            "|  Accuracy |     98.1600 %     |\n",
            "| Precision | 0.699999988079071 |\n",
            "|   Recall  | 0.699999988079071 |\n",
            "|  F1 Score | 0.699999988079071 |\n",
            "+-----------+-------------------+\n"
          ]
        },
        {
          "output_type": "display_data",
          "data": {
            "text/plain": [
              "<Figure size 288x288 with 1 Axes>"
            ],
            "image/png": "[encoded data removed]"
          },
          "metadata": {
            "needs_background": "light"
          }
        },
        {
          "output_type": "stream",
          "name": "stdout",
          "text": [
            "\n",
            "USING SGD with L2 Regularization OPTIMISER.\n",
            "\n"
          ]
        },
        {
          "output_type": "display_data",
          "data": {
            "text/plain": [
              "<Figure size 432x288 with 1 Axes>"
            ],
            "image/png": "[encoded data removed]"
          },
          "metadata": {
            "needs_background": "light"
          }
        },
        {
          "output_type": "stream",
          "name": "stdout",
          "text": [
            "Final loss is 0.2568783055334775\n",
            "+-----------+--------------------+\n",
            "|   METRIC  |       Value        |\n",
            "+-----------+--------------------+\n",
            "|  Accuracy |     93.5800 %      |\n",
            "| Precision | 0.8500000238418579 |\n",
            "|   Recall  | 0.8500000238418579 |\n",
            "|  F1 Score | 0.8333333730697632 |\n",
            "+-----------+--------------------+\n"
          ]
        },
        {
          "output_type": "display_data",
          "data": {
            "text/plain": [
              "<Figure size 288x288 with 1 Axes>"
            ],
            "image/png": "[encoded data removed]"
          },
          "metadata": {
            "needs_background": "light"
          }
        },
        {
          "output_type": "stream",
          "name": "stdout",
          "text": [
            "\n",
            "USING RMSprop OPTIMISER.\n",
            "\n"
          ]
        },
        {
          "output_type": "display_data",
          "data": {
            "text/plain": [
              "<Figure size 432x288 with 1 Axes>"
            ],
            "image/png": "[encoded data removed]"
          },
          "metadata": {
            "needs_background": "light"
          }
        },
        {
          "output_type": "stream",
          "name": "stdout",
          "text": [
            "Final loss is 0.0807619701916703\n",
            "+-----------+-------------------+\n",
            "|   METRIC  |       Value       |\n",
            "+-----------+-------------------+\n",
            "|  Accuracy |     95.6600 %     |\n",
            "| Precision | 0.800000011920929 |\n",
            "|   Recall  | 0.800000011920929 |\n",
            "|  F1 Score | 0.800000011920929 |\n",
            "+-----------+-------------------+\n"
          ]
        },
        {
          "output_type": "display_data",
          "data": {
            "text/plain": [
              "<Figure size 288x288 with 1 Axes>"
            ],
            "image/png": "[encoded data removed]"
          },
          "metadata": {
            "needs_background": "light"
          }
        },
        {
          "output_type": "stream",
          "name": "stdout",
          "text": [
            "\n",
            "USING Adam OPTIMISER.\n",
            "\n"
          ]
        },
        {
          "output_type": "display_data",
          "data": {
            "text/plain": [
              "<Figure size 432x288 with 1 Axes>"
            ],
            "image/png": "[encoded data removed]"
          },
          "metadata": {
            "needs_background": "light"
          }
        },
        {
          "output_type": "stream",
          "name": "stdout",
          "text": [
            "Final loss is 0.006647094746367791\n",
            "+-----------+-------------------+\n",
            "|   METRIC  |       Value       |\n",
            "+-----------+-------------------+\n",
            "|  Accuracy |     98.0400 %     |\n",
            "| Precision | 0.800000011920929 |\n",
            "|   Recall  | 0.800000011920929 |\n",
            "|  F1 Score | 0.800000011920929 |\n",
            "+-----------+-------------------+\n"
          ]
        },
        {
          "output_type": "display_data",
          "data": {
            "text/plain": [
              "<Figure size 288x288 with 1 Axes>"
            ],
            "image/png": "[encoded data removed]"
          },
          "metadata": {
            "needs_background": "light"
          }
        }
      ],
      "source": [
        "device = torch.device('cuda' if torch.cuda.is_available() else 'cpu') \n",
        "epochs = 25\n",
        "for i in range(1, 6):\n",
        "  running_loss = []\n",
        "  val_loss = []\n",
        "  model = SimpleMLP().to(device)\n",
        "  opt_name, optimiser = opt(model, i)\n",
        "  criterion = nn.CrossEntropyLoss()\n",
        "  print(f'\\nUSING {opt_name} OPTIMISER.\\n')\n",
        "  for epoch in range(epochs):\n",
        "    train_loss = 0\n",
        "    for batch, (images, labels) in enumerate(trainloader_minibatch):\n",
        "\n",
        "      images = images.reshape(-1, 28*28).to(device)\n",
        "      labels = labels.to(device)\n",
        "      \n",
        "      outputs = model(images)\n",
        "      loss = criterion(outputs, labels)  \n",
        "      \n",
        "      loss.backward()\n",
        "      optimiser.step()\n",
        "      optimiser.zero_grad()\n",
        "\n",
        "      train_loss += loss.item()\n",
        "      \n",
        "    # print(f\"Epoch {epoch+1}, loss: {train_loss/len(trainloader_minibatch):.4f}\")\n",
        "    running_loss.append(train_loss/len(trainloader_minibatch))\n",
        "  plt.plot(list(range(1, 26)), running_loss)\n",
        "  plt.xlabel('Epoch')\n",
        "  plt.ylabel('loss')\n",
        "  plt.show()\n",
        "  print(f'Final loss is {running_loss[-1]}')\n",
        "  \n",
        "  # Test the model: we don't need to compute gradients\n",
        "  with torch.no_grad():\n",
        "    n_correct = 0\n",
        "    n_samples = len(testloader_minibatch.dataset)\n",
        "\n",
        "    for images, labels in testloader_minibatch:\n",
        "      images = images.reshape(-1, 28*28).to(device)\n",
        "      labels = labels.to(device)\n",
        "\n",
        "      outputs = model(images)\n",
        "\n",
        "      # max returns (output_value ,index)\n",
        "      _, predicted = torch.max(outputs, 1)\n",
        "\n",
        "      metric1 = MulticlassPrecision(num_classes=10, average='macro').to(device)\n",
        "      precision = metric1(predicted, labels)\n",
        "\n",
        "      metric2 = MulticlassRecall(num_classes=10, average='macro').to(device)\n",
        "      recall = metric2(predicted, labels)\n",
        "\n",
        "      metric3 = MulticlassF1Score(num_classes=10, average='macro').to(device)\n",
        "      f1score = metric3(predicted, labels)  \n",
        "\n",
        "      metric4 = MulticlassConfusionMatrix(num_classes=10).to(device)\n",
        "      conf_mat = metric4(predicted, labels)\n",
        "\n",
        "      n_correct += (predicted == labels).sum().item()\n",
        "\n",
        "    acc = n_correct / n_samples\n",
        "\n",
        "    table = PrettyTable()\n",
        "    table.field_names = [\"METRIC\", \"Value\"]\n",
        "    table.add_row([\"Accuracy\", f'{100*acc:.4f} %'])\n",
        "    table.add_row([\"Precision\", precision.item()])\n",
        "    table.add_row([\"Recall\", recall.item()])\n",
        "    table.add_row([\"F1 Score\", f1score.item()])\n",
        "    print(table)\n",
        "    # print(f'Accuracy of the network on the {n_samples} test images: {100*acc:.4f} %')\n",
        "    # print(f'Precision: {precision}')\n",
        "    # print(f'Recall: {recall}')\n",
        "    # print(f'F1 Score: {f1score}')\n",
        "    plt.matshow(conf_mat.to('cpu').numpy())\n",
        "    plt.show()\n"
      ],
      "id": "S4b7lF7p2T_-"
    },
    {
      "cell_type": "markdown",
      "metadata": {
        "id": "d09ffca0"
      },
      "source": [
        "### Step five: Using SimpleMLP and Adam optimizer, train models using 2 different lr_schedulers.\n",
        "Select 2 of **MultiplicativeLR**, **MultiStepLR**, **LinearLR** and **ExponentialLR**\n",
        "\n",
        "Compare the results among different LR schedulers and the original model which didn't employ any LR scheduler. Compile results in a tabular form. Plot losses for each. Explain results."
      ],
      "id": "d09ffca0"
    },
    {
      "cell_type": "code",
      "execution_count": null,
      "metadata": {
        "id": "pPlRxinlWmja",
        "colab": {
          "base_uri": "https://localhost:8080/",
          "height": 366
        },
        "outputId": "5c863187-7255-4d0b-f5c0-9def3fcd426c"
      },
      "outputs": [
        {
          "output_type": "stream",
          "name": "stdout",
          "text": [
            "\n",
            "USING Adam OPTIMISER with MultiplicativeLR scheduler.\n",
            "\n"
          ]
        },
        {
          "output_type": "display_data",
          "data": {
            "text/plain": [
              "<Figure size 432x288 with 1 Axes>"
            ],
            "image/png": "[encoded data removed]"
          },
          "metadata": {
            "needs_background": "light"
          }
        },
        {
          "output_type": "stream",
          "name": "stdout",
          "text": [
            "Final loss is 0.00044791593227118523\n",
            "Accuracy of the network on the 10000 test images: 98.1800 %\n"
          ]
        }
      ],
      "source": [
        "# code and analysis here\n",
        "epochs = 25\n",
        "running_loss = []\n",
        "val_loss = []\n",
        "model = SimpleMLP().to(device)\n",
        "opt_name, optimiser = opt(model, 5)\n",
        "lmda = lambda epoch : 0.8\n",
        "scheduler = torch.optim.lr_scheduler.MultiplicativeLR(optimiser, lr_lambda=lmda)\n",
        "criterion = nn.CrossEntropyLoss()\n",
        "print(f'\\nUSING {opt_name} OPTIMISER with MultiplicativeLR scheduler.\\n')\n",
        "for epoch in range(epochs):\n",
        "  train_loss = 0\n",
        "  for batch, (images, labels) in enumerate(trainloader_minibatch):\n",
        "\n",
        "    images = images.reshape(-1, 28*28).to(device)\n",
        "    labels = labels.to(device)\n",
        "    \n",
        "    outputs = model(images)\n",
        "    loss = criterion(outputs, labels)  \n",
        "    \n",
        "    loss.backward()\n",
        "    optimiser.step()\n",
        "    optimiser.zero_grad()\n",
        "\n",
        "    train_loss += loss.item()\n",
        "    \n",
        "  # print(f\"Epoch {epoch+1}, loss: {train_loss/len(trainloader_minibatch):.4f}\")\n",
        "  scheduler.step()\n",
        "  running_loss.append(train_loss/len(trainloader_minibatch))\n",
        "plt.plot(list(range(1, 26)), running_loss)\n",
        "plt.xlabel('Epoch')\n",
        "plt.ylabel('loss')\n",
        "plt.show()\n",
        "print(f'Final loss is {running_loss[-1]}')\n",
        "\n",
        "# Test the model: we don't need to compute gradients\n",
        "with torch.no_grad():\n",
        "  n_correct = 0\n",
        "  n_samples = len(testloader_minibatch.dataset)\n",
        "\n",
        "  for images, labels in testloader_minibatch:\n",
        "    images = images.reshape(-1, 28*28).to(device)\n",
        "    labels = labels.to(device)\n",
        "\n",
        "    outputs = model(images)\n",
        "\n",
        "    # max returns (output_value ,index)\n",
        "    _, predicted = torch.max(outputs, 1)\n",
        "    n_correct += (predicted == labels).sum().item()\n",
        "\n",
        "  acc = n_correct / n_samples\n",
        "  print(f'Accuracy of the network on the {n_samples} test images: {100*acc:.4f} %')"
      ],
      "id": "pPlRxinlWmja"
    },
    {
      "cell_type": "code",
      "execution_count": null,
      "metadata": {
        "id": "17e61fd6",
        "colab": {
          "base_uri": "https://localhost:8080/",
          "height": 366
        },
        "outputId": "f500159b-e40c-4037-deb5-0fc89386ea7a"
      },
      "outputs": [
        {
          "output_type": "stream",
          "name": "stdout",
          "text": [
            "\n",
            "USING Adam OPTIMISER with MultiStepLR scheduler.\n",
            "\n"
          ]
        },
        {
          "output_type": "display_data",
          "data": {
            "text/plain": [
              "<Figure size 432x288 with 1 Axes>"
            ],
            "image/png": "[encoded data removed]"
          },
          "metadata": {
            "needs_background": "light"
          }
        },
        {
          "output_type": "stream",
          "name": "stdout",
          "text": [
            "Final loss is 0.001432083279150282\n",
            "Accuracy of the network on the 10000 test images: 98.3600 %\n"
          ]
        }
      ],
      "source": [
        "# code and analysis here\n",
        "epochs = 25\n",
        "running_loss = []\n",
        "val_loss = []\n",
        "model = SimpleMLP().to(device)\n",
        "opt_name, optimiser = opt(model, 5)\n",
        "scheduler = torch.optim.lr_scheduler.MultiStepLR(optimiser, milestones=[5, 10], gamma=0.1)\n",
        "criterion = nn.CrossEntropyLoss()\n",
        "print(f'\\nUSING {opt_name} OPTIMISER with MultiStepLR scheduler.\\n')\n",
        "for epoch in range(epochs):\n",
        "  train_loss = 0\n",
        "  for batch, (images, labels) in enumerate(trainloader_minibatch):\n",
        "\n",
        "    images = images.reshape(-1, 28*28).to(device)\n",
        "    labels = labels.to(device)\n",
        "    \n",
        "    outputs = model(images)\n",
        "    loss = criterion(outputs, labels)  \n",
        "    \n",
        "    loss.backward()\n",
        "    optimiser.step()\n",
        "    optimiser.zero_grad()\n",
        "\n",
        "    train_loss += loss.item()\n",
        "    \n",
        "  # print(f\"Epoch {epoch+1}, loss: {train_loss/len(trainloader_minibatch):.4f}\")\n",
        "  scheduler.step()\n",
        "  running_loss.append(train_loss/len(trainloader_minibatch))\n",
        "plt.plot(list(range(1, 26)), running_loss)\n",
        "plt.xlabel('Epoch')\n",
        "plt.ylabel('loss')\n",
        "plt.show()\n",
        "print(f'Final loss is {running_loss[-1]}')\n",
        "\n",
        "# Test the model: we don't need to compute gradients\n",
        "with torch.no_grad():\n",
        "  n_correct = 0\n",
        "  n_samples = len(testloader_minibatch.dataset)\n",
        "\n",
        "  for images, labels in testloader_minibatch:\n",
        "    images = images.reshape(-1, 28*28).to(device)\n",
        "    labels = labels.to(device)\n",
        "\n",
        "    outputs = model(images)\n",
        "\n",
        "    # max returns (output_value ,index)\n",
        "    _, predicted = torch.max(outputs, 1)\n",
        "    n_correct += (predicted == labels).sum().item()\n",
        "\n",
        "  acc = n_correct / n_samples\n",
        "  print(f'Accuracy of the network on the {n_samples} test images: {100*acc:.4f} %')"
      ],
      "id": "17e61fd6"
    },
    {
      "cell_type": "markdown",
      "metadata": {
        "id": "91631d83"
      },
      "source": [
        "### Step six: Define 3 models with following changes:\n",
        "1. Add BatchNorm\n",
        "2. Add Dropout\n",
        "3. Add BatchNorm and Dropout"
      ],
      "id": "91631d83"
    },
    {
      "cell_type": "code",
      "execution_count": null,
      "metadata": {
        "id": "67d845a4"
      },
      "outputs": [],
      "source": [
        "# code here\n",
        "class MLP_batchNorm(nn.Module):\n",
        "  def __init__(self):\n",
        "    super().__init__()\n",
        "    self.layer1 = nn.Linear(28*28, 450)\n",
        "    self.bnorm1 = nn.BatchNorm1d(450)\n",
        "    self.layer2 = nn.Linear(450, 200)\n",
        "    self.bnorm2 = nn.BatchNorm1d(200)\n",
        "    self.layer3 = nn.Linear(200, 10)\n",
        "    self.relu = nn.ReLU()\n",
        "  def forward(self,x):\n",
        "    output = self.layer1(x)\n",
        "    output = self.bnorm1(output)\n",
        "    output = self.relu(output)\n",
        "    output = self.layer2(output)\n",
        "    output = self.bnorm2(output)\n",
        "    output = self.relu(output)\n",
        "    output = self.layer3(output)\n",
        "    return output"
      ],
      "id": "67d845a4"
    },
    {
      "cell_type": "code",
      "execution_count": null,
      "metadata": {
        "id": "tQ8-WfwthnhI"
      },
      "outputs": [],
      "source": [
        "class MLP_dropout(nn.Module):\n",
        "  def __init__(self):\n",
        "    super().__init__()\n",
        "    self.layer1 = nn.Linear(28*28, 450)\n",
        "    self.drop1 = nn.Dropout(p=0.1)\n",
        "    self.layer2 = nn.Linear(450, 200)\n",
        "    self.drop2 = nn.Dropout(p=0.2)\n",
        "    self.layer3 = nn.Linear(200, 10)\n",
        "    self.relu = nn.ReLU()\n",
        "  def forward(self,x):\n",
        "    output = self.layer1(x)\n",
        "    output = self.relu(output)\n",
        "    output = self.drop1(output)\n",
        "    output = self.layer2(output)\n",
        "    output = self.relu(output)\n",
        "    output = self.drop2(output)\n",
        "    output = self.layer3(output)\n",
        "    return output"
      ],
      "id": "tQ8-WfwthnhI"
    },
    {
      "cell_type": "code",
      "execution_count": null,
      "metadata": {
        "id": "jZvYrvggiojS"
      },
      "outputs": [],
      "source": [
        "class MLP_bnorm_dropout(nn.Module):\n",
        "  def __init__(self):\n",
        "    super().__init__()\n",
        "    self.layer1 = nn.Linear(28*28, 450)\n",
        "    self.bnorm1 = nn.BatchNorm1d(450)\n",
        "    self.drop1 = nn.Dropout(p=0.25)\n",
        "    self.layer2 = nn.Linear(450, 200)\n",
        "    self.bnorm2 = nn.BatchNorm1d(200)\n",
        "    self.drop2 = nn.Dropout(p=0.5)\n",
        "    self.layer3 = nn.Linear(200, 10)\n",
        "    self.relu = nn.ReLU()\n",
        "  def forward(self,x):\n",
        "    output = self.layer1(x)\n",
        "    output = self.bnorm1(output)\n",
        "    output = self.relu(output)\n",
        "    output = self.drop1(output)\n",
        "    output = self.layer2(output)\n",
        "    output = self.bnorm2(output)\n",
        "    output = self.relu(output)\n",
        "    output = self.drop2(output)\n",
        "    output = self.layer3(output)\n",
        "    return output"
      ],
      "id": "jZvYrvggiojS"
    },
    {
      "cell_type": "markdown",
      "metadata": {
        "id": "adc3d78f"
      },
      "source": [
        "### Step seven: Train the above models and compare with SimpleMLP.\n",
        "\n",
        "Use your choice of optimizer, use no lr_scheduler so as to re-use the previous results.\n",
        "\n",
        "Perform analysis. You've got the drill by now."
      ],
      "id": "adc3d78f"
    },
    {
      "cell_type": "code",
      "execution_count": null,
      "metadata": {
        "id": "0a86605f",
        "colab": {
          "base_uri": "https://localhost:8080/",
          "height": 366
        },
        "outputId": "1c55aecf-9006-4063-b946-5e251969d585"
      },
      "outputs": [
        {
          "output_type": "stream",
          "name": "stdout",
          "text": [
            "\n",
            "USING Adam OPTIMISER with batch normalisation.\n",
            "\n"
          ]
        },
        {
          "output_type": "display_data",
          "data": {
            "text/plain": [
              "<Figure size 432x288 with 1 Axes>"
            ],
            "image/png": "[encoded data removed]"
          },
          "metadata": {
            "needs_background": "light"
          }
        },
        {
          "output_type": "stream",
          "name": "stdout",
          "text": [
            "Final loss is 0.005896361293697406\n",
            "Accuracy of the network on the 10000 test images: 97.8900 %\n"
          ]
        }
      ],
      "source": [
        "# code here\n",
        "epochs = 25\n",
        "running_loss = []\n",
        "val_loss = []\n",
        "model = MLP_batchNorm().to(device)\n",
        "opt_name, optimiser = opt(model, 5)\n",
        "criterion = nn.CrossEntropyLoss()\n",
        "print(f'\\nUSING {opt_name} OPTIMISER with batch normalisation.\\n')\n",
        "for epoch in range(epochs):\n",
        "  train_loss = 0\n",
        "  for batch, (images, labels) in enumerate(trainloader_minibatch):\n",
        "\n",
        "    images = images.reshape(-1, 28*28).to(device)\n",
        "    labels = labels.to(device)\n",
        "    \n",
        "    outputs = model(images)\n",
        "    loss = criterion(outputs, labels)  \n",
        "    \n",
        "    loss.backward()\n",
        "    optimiser.step()\n",
        "    optimiser.zero_grad()\n",
        "\n",
        "    train_loss += loss.item()\n",
        "    \n",
        "  # print(f\"Epoch {epoch+1}, loss: {train_loss/len(trainloader_minibatch):.4f}\")\n",
        "  running_loss.append(train_loss/len(trainloader_minibatch))\n",
        "plt.plot(list(range(1, 26)), running_loss)\n",
        "plt.xlabel('Epoch')\n",
        "plt.ylabel('loss')\n",
        "plt.show()\n",
        "print(f'Final loss is {running_loss[-1]}')\n",
        "\n",
        "# Test the model: we don't need to compute gradients\n",
        "with torch.no_grad():\n",
        "  n_correct = 0\n",
        "  n_samples = len(testloader_minibatch.dataset)\n",
        "\n",
        "  for images, labels in testloader_minibatch:\n",
        "    images = images.reshape(-1, 28*28).to(device)\n",
        "    labels = labels.to(device)\n",
        "\n",
        "    outputs = model(images)\n",
        "\n",
        "    # max returns (output_value ,index)\n",
        "    _, predicted = torch.max(outputs, 1)\n",
        "    n_correct += (predicted == labels).sum().item()\n",
        "\n",
        "  acc = n_correct / n_samples\n",
        "  print(f'Accuracy of the network on the {n_samples} test images: {100*acc:.4f} %')"
      ],
      "id": "0a86605f"
    },
    {
      "cell_type": "code",
      "execution_count": null,
      "metadata": {
        "id": "n-YxaMoUkHlD",
        "colab": {
          "base_uri": "https://localhost:8080/",
          "height": 366
        },
        "outputId": "9274d291-b450-4e95-f2fb-d0c7a24f0376"
      },
      "outputs": [
        {
          "output_type": "stream",
          "name": "stdout",
          "text": [
            "\n",
            "USING Adam OPTIMISER with dropout.\n",
            "\n"
          ]
        },
        {
          "output_type": "display_data",
          "data": {
            "text/plain": [
              "<Figure size 432x288 with 1 Axes>"
            ],
            "image/png": "[encoded data removed]"
          },
          "metadata": {
            "needs_background": "light"
          }
        },
        {
          "output_type": "stream",
          "name": "stdout",
          "text": [
            "Final loss is 0.012256565500852835\n",
            "Accuracy of the network on the 10000 test images: 98.0200 %\n"
          ]
        }
      ],
      "source": [
        "# code here\n",
        "epochs = 25\n",
        "running_loss = []\n",
        "val_loss = []\n",
        "model = MLP_dropout().to(device)\n",
        "opt_name, optimiser = opt(model, 5)\n",
        "criterion = nn.CrossEntropyLoss()\n",
        "print(f'\\nUSING {opt_name} OPTIMISER with dropout.\\n')\n",
        "for epoch in range(epochs):\n",
        "  train_loss = 0\n",
        "  for batch, (images, labels) in enumerate(trainloader_minibatch):\n",
        "\n",
        "    images = images.reshape(-1, 28*28).to(device)\n",
        "    labels = labels.to(device)\n",
        "    \n",
        "    outputs = model(images)\n",
        "    loss = criterion(outputs, labels)  \n",
        "    \n",
        "    loss.backward()\n",
        "    optimiser.step()\n",
        "    optimiser.zero_grad()\n",
        "\n",
        "    train_loss += loss.item()\n",
        "    \n",
        "  # print(f\"Epoch {epoch+1}, loss: {train_loss/len(trainloader_minibatch):.4f}\")\n",
        "  running_loss.append(train_loss/len(trainloader_minibatch))\n",
        "plt.plot(list(range(1, 26)), running_loss)\n",
        "plt.xlabel('Epoch')\n",
        "plt.ylabel('loss')\n",
        "plt.show()\n",
        "print(f'Final loss is {running_loss[-1]}')\n",
        "\n",
        "# Test the model: we don't need to compute gradients\n",
        "with torch.no_grad():\n",
        "  n_correct = 0\n",
        "  n_samples = len(testloader_minibatch.dataset)\n",
        "\n",
        "  for images, labels in testloader_minibatch:\n",
        "    images = images.reshape(-1, 28*28).to(device)\n",
        "    labels = labels.to(device)\n",
        "\n",
        "    outputs = model(images)\n",
        "\n",
        "    # max returns (output_value ,index)\n",
        "    _, predicted = torch.max(outputs, 1)\n",
        "    n_correct += (predicted == labels).sum().item()\n",
        "\n",
        "  acc = n_correct / n_samples\n",
        "  print(f'Accuracy of the network on the {n_samples} test images: {100*acc:.4f} %')"
      ],
      "id": "n-YxaMoUkHlD"
    },
    {
      "cell_type": "code",
      "execution_count": null,
      "metadata": {
        "id": "Nd2LKPykkS_W",
        "colab": {
          "base_uri": "https://localhost:8080/",
          "height": 366
        },
        "outputId": "718c15a7-f6a1-41bd-be88-d39b53e3e329"
      },
      "outputs": [
        {
          "output_type": "stream",
          "name": "stdout",
          "text": [
            "\n",
            "USING Adam OPTIMISER with batch normalistion and dropout.\n",
            "\n"
          ]
        },
        {
          "output_type": "display_data",
          "data": {
            "text/plain": [
              "<Figure size 432x288 with 1 Axes>"
            ],
            "image/png": "[encoded data removed]"
          },
          "metadata": {
            "needs_background": "light"
          }
        },
        {
          "output_type": "stream",
          "name": "stdout",
          "text": [
            "Final loss is 0.025800057797244914\n",
            "Accuracy of the network on the 10000 test images: 97.1600 %\n"
          ]
        }
      ],
      "source": [
        "# code here\n",
        "epochs = 25\n",
        "running_loss = []\n",
        "val_loss = []\n",
        "model = MLP_bnorm_dropout().to(device)\n",
        "opt_name, optimiser = opt(model, 5)\n",
        "criterion = nn.CrossEntropyLoss()\n",
        "print(f'\\nUSING {opt_name} OPTIMISER with batch normalistion and dropout.\\n')\n",
        "for epoch in range(epochs):\n",
        "  train_loss = 0\n",
        "  for batch, (images, labels) in enumerate(trainloader_minibatch):\n",
        "\n",
        "    images = images.reshape(-1, 28*28).to(device)\n",
        "    labels = labels.to(device)\n",
        "    \n",
        "    outputs = model(images)\n",
        "    loss = criterion(outputs, labels)  \n",
        "    \n",
        "    loss.backward()\n",
        "    optimiser.step()\n",
        "    optimiser.zero_grad()\n",
        "\n",
        "    train_loss += loss.item()\n",
        "    \n",
        "  # print(f\"Epoch {epoch+1}, loss: {train_loss/len(trainloader_minibatch):.4f}\")\n",
        "  running_loss.append(train_loss/len(trainloader_minibatch))\n",
        "plt.plot(list(range(1, 26)), running_loss)\n",
        "plt.xlabel('Epoch')\n",
        "plt.ylabel('loss')\n",
        "plt.show()\n",
        "print(f'Final loss is {running_loss[-1]}')\n",
        "\n",
        "# Test the model: we don't need to compute gradients\n",
        "with torch.no_grad():\n",
        "  n_correct = 0\n",
        "  n_samples = len(testloader_minibatch.dataset)\n",
        "\n",
        "  for images, labels in testloader_minibatch:\n",
        "    images = images.reshape(-1, 28*28).to(device)\n",
        "    labels = labels.to(device)\n",
        "\n",
        "    outputs = model(images)\n",
        "\n",
        "    # max returns (output_value ,index)\n",
        "    _, predicted = torch.max(outputs, 1)\n",
        "    n_correct += (predicted == labels).sum().item()\n",
        "\n",
        "  acc = n_correct / n_samples\n",
        "  print(f'Accuracy of the network on the {n_samples} test images: {100*acc:.4f} %')"
      ],
      "id": "Nd2LKPykkS_W"
    },
    {
      "cell_type": "markdown",
      "metadata": {
        "id": "159e3334"
      },
      "source": [
        "### Step eight: Mini-batch vs Stocastic\n",
        "Now that you might have a clear winner in your mind regarding which model and settings perform the best, train it on mini-batch and stocastic and compare time taken, loss curve, accuracy etc.\n",
        "\n",
        "Perform an analysis like never before!"
      ],
      "id": "159e3334"
    },
    {
      "cell_type": "code",
      "execution_count": null,
      "metadata": {
        "id": "fa6fd837",
        "colab": {
          "base_uri": "https://localhost:8080/",
          "height": 366
        },
        "outputId": "22882e23-52c8-4234-9867-7c1454bfb114"
      },
      "outputs": [
        {
          "output_type": "stream",
          "name": "stdout",
          "text": [
            "\n",
            "USING Adam OPTIMISER and Mini batch.\n",
            "\n"
          ]
        },
        {
          "output_type": "display_data",
          "data": {
            "text/plain": [
              "<Figure size 432x288 with 1 Axes>"
            ],
            "image/png": "[encoded data removed]"
          },
          "metadata": {
            "needs_background": "light"
          }
        },
        {
          "output_type": "stream",
          "name": "stdout",
          "text": [
            "Final loss is 0.00769701575453348\n",
            "Accuracy of the network on the 10000 test images: 98.0300 %\n"
          ]
        }
      ],
      "source": [
        "# code here\n",
        "# code and analysis here\n",
        "epochs = 25\n",
        "running_loss = []\n",
        "val_loss = []\n",
        "model = SimpleMLP().to(device)\n",
        "opt_name, optimiser = opt(model, 5)\n",
        "lmda = lambda epoch : 0.8\n",
        "criterion = nn.CrossEntropyLoss()\n",
        "print(f'\\nUSING {opt_name} OPTIMISER and Mini batch.\\n')\n",
        "for epoch in range(epochs):\n",
        "  train_loss = 0\n",
        "  for batch, (images, labels) in enumerate(trainloader_minibatch):\n",
        "\n",
        "    images = images.reshape(-1, 28*28).to(device)\n",
        "    labels = labels.to(device)\n",
        "    \n",
        "    outputs = model(images)\n",
        "    loss = criterion(outputs, labels)  \n",
        "    \n",
        "    loss.backward()\n",
        "    optimiser.step()\n",
        "    optimiser.zero_grad()\n",
        "\n",
        "    train_loss += loss.item()\n",
        "    \n",
        "  # print(f\"Epoch {epoch+1}, loss: {train_loss/len(trainloader_minibatch):.4f}\")\n",
        "  running_loss.append(train_loss/len(trainloader_minibatch))\n",
        "plt.plot(list(range(1, 26)), running_loss)\n",
        "plt.xlabel('Epoch')\n",
        "plt.ylabel('loss')\n",
        "plt.show()\n",
        "print(f'Final loss is {running_loss[-1]}')\n",
        "\n",
        "# Test the model: we don't need to compute gradients\n",
        "with torch.no_grad():\n",
        "  n_correct = 0\n",
        "  n_samples = len(testloader_minibatch.dataset)\n",
        "\n",
        "  for images, labels in testloader_minibatch:\n",
        "    images = images.reshape(-1, 28*28).to(device)\n",
        "    labels = labels.to(device)\n",
        "\n",
        "    outputs = model(images)\n",
        "\n",
        "    # max returns (output_value ,index)\n",
        "    _, predicted = torch.max(outputs, 1)\n",
        "    n_correct += (predicted == labels).sum().item()\n",
        "\n",
        "  acc = n_correct / n_samples\n",
        "  print(f'Accuracy of the network on the {n_samples} test images: {100*acc:.4f} %')"
      ],
      "id": "fa6fd837"
    },
    {
      "cell_type": "code",
      "execution_count": null,
      "metadata": {
        "id": "vNlkU8KSbDaO",
        "colab": {
          "base_uri": "https://localhost:8080/",
          "height": 745
        },
        "outputId": "6e0a363e-4568-4ef2-de78-2ca101c244c3"
      },
      "outputs": [
        {
          "output_type": "stream",
          "name": "stdout",
          "text": [
            "\n",
            "USING Adam OPTIMISER and stochastic.\n",
            "\n"
          ]
        },
        {
          "output_type": "display_data",
          "data": {
            "text/plain": [
              "<Figure size 432x288 with 1 Axes>"
            ],
            "image/png": "[encoded data removed]"
          },
          "metadata": {
            "needs_background": "light"
          }
        },
        {
          "output_type": "stream",
          "name": "stdout",
          "text": [
            "Final loss is 0.09590321045817848\n",
            "+-----------+--------------------+\n",
            "|   METRIC  |       Value        |\n",
            "+-----------+--------------------+\n",
            "|  Accuracy |     96.8100 %      |\n",
            "| Precision | 0.7000000476837158 |\n",
            "|   Recall  | 0.7000000476837158 |\n",
            "|  F1 Score | 0.7000000476837158 |\n",
            "+-----------+--------------------+\n"
          ]
        },
        {
          "output_type": "display_data",
          "data": {
            "text/plain": [
              "<Figure size 288x288 with 1 Axes>"
            ],
            "image/png": "[encoded data removed]"
          },
          "metadata": {
            "needs_background": "light"
          }
        }
      ],
      "source": [
        "# code here\n",
        "# code and analysis here\n",
        "device = torch.device('cuda' if torch.cuda.is_available() else 'cpu') \n",
        "epochs = 25\n",
        "running_loss = []\n",
        "val_loss = []\n",
        "model = SimpleMLP().to(device)\n",
        "opt_name, optimiser = opt(model, 5)\n",
        "lmda = lambda epoch : 0.8\n",
        "criterion = nn.CrossEntropyLoss()\n",
        "print(f'\\nUSING {opt_name} OPTIMISER and stochastic.\\n')\n",
        "for epoch in range(epochs):\n",
        "  train_loss = 0\n",
        "  for batch, (images, labels) in enumerate(trainloader_stochastic):\n",
        "\n",
        "    images = images.reshape(-1, 28*28).to(device)\n",
        "    labels = labels.to(device)\n",
        "    \n",
        "    outputs = model(images)\n",
        "    loss = criterion(outputs, labels)  \n",
        "    \n",
        "    loss.backward()\n",
        "    optimiser.step()\n",
        "    optimiser.zero_grad()\n",
        "\n",
        "    train_loss += loss.item()\n",
        "    \n",
        "  # print(f\"Epoch {epoch+1}, loss: {train_loss/len(trainloader_minibatch):.4f}\")\n",
        "  running_loss.append(train_loss/len(trainloader_stochastic))\n",
        "plt.plot(list(range(1, 26)), running_loss)\n",
        "plt.xlabel('Epoch')\n",
        "plt.ylabel('loss')\n",
        "plt.show()\n",
        "print(f'Final loss is {running_loss[-1]}')\n",
        "\n",
        "# Test the model: we don't need to compute gradients\n",
        "with torch.no_grad():\n",
        "  n_correct = 0\n",
        "  n_samples = len(testloader_minibatch.dataset)\n",
        "\n",
        "  for images, labels in testloader_minibatch:\n",
        "    images = images.reshape(-1, 28*28).to(device)\n",
        "    labels = labels.to(device)\n",
        "\n",
        "    outputs = model(images)\n",
        "\n",
        "    # max returns (output_value ,index)\n",
        "    _, predicted = torch.max(outputs, 1)\n",
        "\n",
        "    metric1 = MulticlassPrecision(num_classes=10, average='macro').to(device)\n",
        "    precision = metric1(predicted, labels)\n",
        "\n",
        "    metric2 = MulticlassRecall(num_classes=10, average='macro').to(device)\n",
        "    recall = metric2(predicted, labels)\n",
        "\n",
        "    metric3 = MulticlassF1Score(num_classes=10, average='macro').to(device)\n",
        "    f1score = metric3(predicted, labels)  \n",
        "\n",
        "    metric4 = MulticlassConfusionMatrix(num_classes=10).to(device)\n",
        "    conf_mat = metric4(predicted, labels)\n",
        "\n",
        "    n_correct += (predicted == labels).sum().item()\n",
        "\n",
        "  acc = n_correct / n_samples\n",
        "\n",
        "  table = PrettyTable()\n",
        "  table.field_names = [\"METRIC\", \"Value\"]\n",
        "  table.add_row([\"Accuracy\", f'{100*acc:.4f} %'])\n",
        "  table.add_row([\"Precision\", precision.item()])\n",
        "  table.add_row([\"Recall\", recall.item()])\n",
        "  table.add_row([\"F1 Score\", f1score.item()])\n",
        "  print(table)\n",
        "  # print(f'Accuracy of the network on the {n_samples} test images: {100*acc:.4f} %')\n",
        "  # print(f'Precision: {precision}')\n",
        "  # print(f'Recall: {recall}')\n",
        "  # print(f'F1 Score: {f1score}')\n",
        "  plt.matshow(conf_mat.to('cpu').numpy())\n",
        "  plt.show()\n"
      ],
      "id": "vNlkU8KSbDaO"
    },
    {
      "cell_type": "markdown",
      "source": [
        "***It takes more than a hour to complete! 1 hour 4 min 29 sec to be exact***"
      ],
      "metadata": {
        "id": "f93kSxXT0eHM"
      },
      "id": "f93kSxXT0eHM"
    },
    {
      "cell_type": "markdown",
      "metadata": {
        "id": "d6f04f42"
      },
      "source": [
        "### And most importantly!!! What did we learn?\n",
        "Discuss any and all learnings here. The discussions must be all-encompassing so that we know what did you learn. \n",
        "\n",
        "Please do not copy from your friend or copy-paste from the internet. We can see repetitions during evaluations."
      ],
      "id": "d6f04f42"
    },
    {
      "cell_type": "code",
      "execution_count": null,
      "metadata": {
        "id": "1717f8ce"
      },
      "outputs": [],
      "source": [
        "# text here\n",
        "\"\"\"\n",
        "Multi-Layer Perceptrons (MLPs) are artificial neural networks that have been widely used in machine learning,\n",
        "such as image recognition, natural language processing, and speech recognition. Some of the key things we \n",
        "learn from MLPs are: \n",
        "Non-linearity: MLPs can learn non-linear decision boundaries, which allows them to capture \n",
        "complex patterns in the input data. This is achieved by applying nonlinear activation functions to the hidden layers,\n",
        "such as ReLU, sigmoid, or tanh. \n",
        "Classification learning: MLPs are able to learn clues about the input that \n",
        "are useful for the business at hand. This is achieved through the use of multiple hidden layers, where each layer\n",
        "learns to transform the input data into an abstract representation that is then used as input to the next layer.\n",
        "Generalization: MLPs can generalize to new, unseen data, which is critical to their ability to accurately predict new data.\n",
        "This is achieved through the use of regularization methods, such as weight decay, dropout, or batch normalization,\n",
        "which help prevent overfitting. \n",
        "Optimization: MLPs require efficient optimization algorithms to learn the model parameters\n",
        "from the training data. commonly used optimization algorithms for MLPs include stochastic gradient descent, momentum-based methods,\n",
        "and adaptive methods such as RMSprop and Adam. Overall, MLPs are a powerful tool for learning from complex data and\n",
        "have demonstrated impressive performance in a wide range of machine learning tasks. However, designing and training MLPs\n",
        "requires careful consideration of various factors such as network architecture, activation functions, regularization techniques,\n",
        "and optimization algorithms, which can significantly affect the performance of the model.\n",
        "\"\"\""
      ],
      "id": "1717f8ce"
    }
  ],
  "metadata": {
    "accelerator": "GPU",
    "colab": {
      "provenance": []
    },
    "gpuClass": "standard",
    "kernelspec": {
      "display_name": "env",
      "language": "python",
      "name": "env"
    },
    "language_info": {
      "codemirror_mode": {
        "name": "ipython",
        "version": 3
      },
      "file_extension": ".py",
      "mimetype": "text/x-python",
      "name": "python",
      "nbconvert_exporter": "python",
      "pygments_lexer": "ipython3",
      "version": "3.8.10"
    },
    "widgets": {
      "application/vnd.jupyter.widget-state+json": {
        "63769d23f42142bea36fd9d2f88a78cb": {
          "model_module": "@jupyter-widgets/controls",
          "model_name": "HBoxModel",
          "model_module_version": "1.5.0",
          "state": {
            "_dom_classes": [],
            "_model_module": "@jupyter-widgets/controls",
            "_model_module_version": "1.5.0",
            "_model_name": "HBoxModel",
            "_view_count": null,
            "_view_module": "@jupyter-widgets/controls",
            "_view_module_version": "1.5.0",
            "_view_name": "HBoxView",
            "box_style": "",
            "children": [
              "IPY_MODEL_6fbe903f430f4ed3ac1a2162f6985335",
              "IPY_MODEL_4ff5f1142cf24c8fa9606412743fe7dd",
              "IPY_MODEL_8ea325f8eb974c899044aa8cdde650ef"
            ],
            "layout": "IPY_MODEL_6af32f5df0944f2f959024cd311c3c22"
          }
        },
        "6fbe903f430f4ed3ac1a2162f6985335": {
          "model_module": "@jupyter-widgets/controls",
          "model_name": "HTMLModel",
          "model_module_version": "1.5.0",
          "state": {
            "_dom_classes": [],
            "_model_module": "@jupyter-widgets/controls",
            "_model_module_version": "1.5.0",
            "_model_name": "HTMLModel",
            "_view_count": null,
            "_view_module": "@jupyter-widgets/controls",
            "_view_module_version": "1.5.0",
            "_view_name": "HTMLView",
            "description": "",
            "description_tooltip": null,
            "layout": "IPY_MODEL_6368f7d36ab9445498916afe3bf43e7d",
            "placeholder": "​",
            "style": "IPY_MODEL_89f9b10ba2a54025b6bfe4ff661e82b6",
            "value": "100%"
          }
        },
        "4ff5f1142cf24c8fa9606412743fe7dd": {
          "model_module": "@jupyter-widgets/controls",
          "model_name": "FloatProgressModel",
          "model_module_version": "1.5.0",
          "state": {
            "_dom_classes": [],
            "_model_module": "@jupyter-widgets/controls",
            "_model_module_version": "1.5.0",
            "_model_name": "FloatProgressModel",
            "_view_count": null,
            "_view_module": "@jupyter-widgets/controls",
            "_view_module_version": "1.5.0",
            "_view_name": "ProgressView",
            "bar_style": "success",
            "description": "",
            "description_tooltip": null,
            "layout": "IPY_MODEL_c9cc3cb9f48c41d6b3d1c786b9a0b092",
            "max": 9912422,
            "min": 0,
            "orientation": "horizontal",
            "style": "IPY_MODEL_c666eab41fd9482fa7b55475e1bff615",
            "value": 9912422
          }
        },
        "8ea325f8eb974c899044aa8cdde650ef": {
          "model_module": "@jupyter-widgets/controls",
          "model_name": "HTMLModel",
          "model_module_version": "1.5.0",
          "state": {
            "_dom_classes": [],
            "_model_module": "@jupyter-widgets/controls",
            "_model_module_version": "1.5.0",
            "_model_name": "HTMLModel",
            "_view_count": null,
            "_view_module": "@jupyter-widgets/controls",
            "_view_module_version": "1.5.0",
            "_view_name": "HTMLView",
            "description": "",
            "description_tooltip": null,
            "layout": "IPY_MODEL_d000b8407ac44726a35f721d0bba6419",
            "placeholder": "​",
            "style": "IPY_MODEL_86fdd74b5e124a8c864110ed098c9aa4",
            "value": " 9912422/9912422 [00:00&lt;00:00, 168290013.46it/s]"
          }
        },
        "6af32f5df0944f2f959024cd311c3c22": {
          "model_module": "@jupyter-widgets/base",
          "model_name": "LayoutModel",
          "model_module_version": "1.2.0",
          "state": {
            "_model_module": "@jupyter-widgets/base",
            "_model_module_version": "1.2.0",
            "_model_name": "LayoutModel",
            "_view_count": null,
            "_view_module": "@jupyter-widgets/base",
            "_view_module_version": "1.2.0",
            "_view_name": "LayoutView",
            "align_content": null,
            "align_items": null,
            "align_self": null,
            "border": null,
            "bottom": null,
            "display": null,
            "flex": null,
            "flex_flow": null,
            "grid_area": null,
            "grid_auto_columns": null,
            "grid_auto_flow": null,
            "grid_auto_rows": null,
            "grid_column": null,
            "grid_gap": null,
            "grid_row": null,
            "grid_template_areas": null,
            "grid_template_columns": null,
            "grid_template_rows": null,
            "height": null,
            "justify_content": null,
            "justify_items": null,
            "left": null,
            "margin": null,
            "max_height": null,
            "max_width": null,
            "min_height": null,
            "min_width": null,
            "object_fit": null,
            "object_position": null,
            "order": null,
            "overflow": null,
            "overflow_x": null,
            "overflow_y": null,
            "padding": null,
            "right": null,
            "top": null,
            "visibility": null,
            "width": null
          }
        },
        "6368f7d36ab9445498916afe3bf43e7d": {
          "model_module": "@jupyter-widgets/base",
          "model_name": "LayoutModel",
          "model_module_version": "1.2.0",
          "state": {
            "_model_module": "@jupyter-widgets/base",
            "_model_module_version": "1.2.0",
            "_model_name": "LayoutModel",
            "_view_count": null,
            "_view_module": "@jupyter-widgets/base",
            "_view_module_version": "1.2.0",
            "_view_name": "LayoutView",
            "align_content": null,
            "align_items": null,
            "align_self": null,
            "border": null,
            "bottom": null,
            "display": null,
            "flex": null,
            "flex_flow": null,
            "grid_area": null,
            "grid_auto_columns": null,
            "grid_auto_flow": null,
            "grid_auto_rows": null,
            "grid_column": null,
            "grid_gap": null,
            "grid_row": null,
            "grid_template_areas": null,
            "grid_template_columns": null,
            "grid_template_rows": null,
            "height": null,
            "justify_content": null,
            "justify_items": null,
            "left": null,
            "margin": null,
            "max_height": null,
            "max_width": null,
            "min_height": null,
            "min_width": null,
            "object_fit": null,
            "object_position": null,
            "order": null,
            "overflow": null,
            "overflow_x": null,
            "overflow_y": null,
            "padding": null,
            "right": null,
            "top": null,
            "visibility": null,
            "width": null
          }
        },
        "89f9b10ba2a54025b6bfe4ff661e82b6": {
          "model_module": "@jupyter-widgets/controls",
          "model_name": "DescriptionStyleModel",
          "model_module_version": "1.5.0",
          "state": {
            "_model_module": "@jupyter-widgets/controls",
            "_model_module_version": "1.5.0",
            "_model_name": "DescriptionStyleModel",
            "_view_count": null,
            "_view_module": "@jupyter-widgets/base",
            "_view_module_version": "1.2.0",
            "_view_name": "StyleView",
            "description_width": ""
          }
        },
        "c9cc3cb9f48c41d6b3d1c786b9a0b092": {
          "model_module": "@jupyter-widgets/base",
          "model_name": "LayoutModel",
          "model_module_version": "1.2.0",
          "state": {
            "_model_module": "@jupyter-widgets/base",
            "_model_module_version": "1.2.0",
            "_model_name": "LayoutModel",
            "_view_count": null,
            "_view_module": "@jupyter-widgets/base",
            "_view_module_version": "1.2.0",
            "_view_name": "LayoutView",
            "align_content": null,
            "align_items": null,
            "align_self": null,
            "border": null,
            "bottom": null,
            "display": null,
            "flex": null,
            "flex_flow": null,
            "grid_area": null,
            "grid_auto_columns": null,
            "grid_auto_flow": null,
            "grid_auto_rows": null,
            "grid_column": null,
            "grid_gap": null,
            "grid_row": null,
            "grid_template_areas": null,
            "grid_template_columns": null,
            "grid_template_rows": null,
            "height": null,
            "justify_content": null,
            "justify_items": null,
            "left": null,
            "margin": null,
            "max_height": null,
            "max_width": null,
            "min_height": null,
            "min_width": null,
            "object_fit": null,
            "object_position": null,
            "order": null,
            "overflow": null,
            "overflow_x": null,
            "overflow_y": null,
            "padding": null,
            "right": null,
            "top": null,
            "visibility": null,
            "width": null
          }
        },
        "c666eab41fd9482fa7b55475e1bff615": {
          "model_module": "@jupyter-widgets/controls",
          "model_name": "ProgressStyleModel",
          "model_module_version": "1.5.0",
          "state": {
            "_model_module": "@jupyter-widgets/controls",
            "_model_module_version": "1.5.0",
            "_model_name": "ProgressStyleModel",
            "_view_count": null,
            "_view_module": "@jupyter-widgets/base",
            "_view_module_version": "1.2.0",
            "_view_name": "StyleView",
            "bar_color": null,
            "description_width": ""
          }
        },
        "d000b8407ac44726a35f721d0bba6419": {
          "model_module": "@jupyter-widgets/base",
          "model_name": "LayoutModel",
          "model_module_version": "1.2.0",
          "state": {
            "_model_module": "@jupyter-widgets/base",
            "_model_module_version": "1.2.0",
            "_model_name": "LayoutModel",
            "_view_count": null,
            "_view_module": "@jupyter-widgets/base",
            "_view_module_version": "1.2.0",
            "_view_name": "LayoutView",
            "align_content": null,
            "align_items": null,
            "align_self": null,
            "border": null,
            "bottom": null,
            "display": null,
            "flex": null,
            "flex_flow": null,
            "grid_area": null,
            "grid_auto_columns": null,
            "grid_auto_flow": null,
            "grid_auto_rows": null,
            "grid_column": null,
            "grid_gap": null,
            "grid_row": null,
            "grid_template_areas": null,
            "grid_template_columns": null,
            "grid_template_rows": null,
            "height": null,
            "justify_content": null,
            "justify_items": null,
            "left": null,
            "margin": null,
            "max_height": null,
            "max_width": null,
            "min_height": null,
            "min_width": null,
            "object_fit": null,
            "object_position": null,
            "order": null,
            "overflow": null,
            "overflow_x": null,
            "overflow_y": null,
            "padding": null,
            "right": null,
            "top": null,
            "visibility": null,
            "width": null
          }
        },
        "86fdd74b5e124a8c864110ed098c9aa4": {
          "model_module": "@jupyter-widgets/controls",
          "model_name": "DescriptionStyleModel",
          "model_module_version": "1.5.0",
          "state": {
            "_model_module": "@jupyter-widgets/controls",
            "_model_module_version": "1.5.0",
            "_model_name": "DescriptionStyleModel",
            "_view_count": null,
            "_view_module": "@jupyter-widgets/base",
            "_view_module_version": "1.2.0",
            "_view_name": "StyleView",
            "description_width": ""
          }
        },
        "fe122de8d8af45799bdd8299daf11eb2": {
          "model_module": "@jupyter-widgets/controls",
          "model_name": "HBoxModel",
          "model_module_version": "1.5.0",
          "state": {
            "_dom_classes": [],
            "_model_module": "@jupyter-widgets/controls",
            "_model_module_version": "1.5.0",
            "_model_name": "HBoxModel",
            "_view_count": null,
            "_view_module": "@jupyter-widgets/controls",
            "_view_module_version": "1.5.0",
            "_view_name": "HBoxView",
            "box_style": "",
            "children": [
              "IPY_MODEL_e023dd5172b14ba28886d070381153ec",
              "IPY_MODEL_fb57e47ceac7428b9fd64be533c620b8",
              "IPY_MODEL_203ffcc69eba487680f3db90c480045c"
            ],
            "layout": "IPY_MODEL_e5f306442d2e4dd999310045e3a4f29f"
          }
        },
        "e023dd5172b14ba28886d070381153ec": {
          "model_module": "@jupyter-widgets/controls",
          "model_name": "HTMLModel",
          "model_module_version": "1.5.0",
          "state": {
            "_dom_classes": [],
            "_model_module": "@jupyter-widgets/controls",
            "_model_module_version": "1.5.0",
            "_model_name": "HTMLModel",
            "_view_count": null,
            "_view_module": "@jupyter-widgets/controls",
            "_view_module_version": "1.5.0",
            "_view_name": "HTMLView",
            "description": "",
            "description_tooltip": null,
            "layout": "IPY_MODEL_0b38d45eb1a54d3ea7cf151066a52843",
            "placeholder": "​",
            "style": "IPY_MODEL_9b30f5da2f484aaaaad56ac355e472b7",
            "value": "100%"
          }
        },
        "fb57e47ceac7428b9fd64be533c620b8": {
          "model_module": "@jupyter-widgets/controls",
          "model_name": "FloatProgressModel",
          "model_module_version": "1.5.0",
          "state": {
            "_dom_classes": [],
            "_model_module": "@jupyter-widgets/controls",
            "_model_module_version": "1.5.0",
            "_model_name": "FloatProgressModel",
            "_view_count": null,
            "_view_module": "@jupyter-widgets/controls",
            "_view_module_version": "1.5.0",
            "_view_name": "ProgressView",
            "bar_style": "success",
            "description": "",
            "description_tooltip": null,
            "layout": "IPY_MODEL_928f026442aa4b8da25e46170e3623ca",
            "max": 28881,
            "min": 0,
            "orientation": "horizontal",
            "style": "IPY_MODEL_2df3253868cf4758a6918fb5c1d33478",
            "value": 28881
          }
        },
        "203ffcc69eba487680f3db90c480045c": {
          "model_module": "@jupyter-widgets/controls",
          "model_name": "HTMLModel",
          "model_module_version": "1.5.0",
          "state": {
            "_dom_classes": [],
            "_model_module": "@jupyter-widgets/controls",
            "_model_module_version": "1.5.0",
            "_model_name": "HTMLModel",
            "_view_count": null,
            "_view_module": "@jupyter-widgets/controls",
            "_view_module_version": "1.5.0",
            "_view_name": "HTMLView",
            "description": "",
            "description_tooltip": null,
            "layout": "IPY_MODEL_fc543329448d4497a7ef94e24a7511cd",
            "placeholder": "​",
            "style": "IPY_MODEL_a0ab38782a854b80a4fe533b4e4a2dd5",
            "value": " 28881/28881 [00:00&lt;00:00, 1418650.09it/s]"
          }
        },
        "e5f306442d2e4dd999310045e3a4f29f": {
          "model_module": "@jupyter-widgets/base",
          "model_name": "LayoutModel",
          "model_module_version": "1.2.0",
          "state": {
            "_model_module": "@jupyter-widgets/base",
            "_model_module_version": "1.2.0",
            "_model_name": "LayoutModel",
            "_view_count": null,
            "_view_module": "@jupyter-widgets/base",
            "_view_module_version": "1.2.0",
            "_view_name": "LayoutView",
            "align_content": null,
            "align_items": null,
            "align_self": null,
            "border": null,
            "bottom": null,
            "display": null,
            "flex": null,
            "flex_flow": null,
            "grid_area": null,
            "grid_auto_columns": null,
            "grid_auto_flow": null,
            "grid_auto_rows": null,
            "grid_column": null,
            "grid_gap": null,
            "grid_row": null,
            "grid_template_areas": null,
            "grid_template_columns": null,
            "grid_template_rows": null,
            "height": null,
            "justify_content": null,
            "justify_items": null,
            "left": null,
            "margin": null,
            "max_height": null,
            "max_width": null,
            "min_height": null,
            "min_width": null,
            "object_fit": null,
            "object_position": null,
            "order": null,
            "overflow": null,
            "overflow_x": null,
            "overflow_y": null,
            "padding": null,
            "right": null,
            "top": null,
            "visibility": null,
            "width": null
          }
        },
        "0b38d45eb1a54d3ea7cf151066a52843": {
          "model_module": "@jupyter-widgets/base",
          "model_name": "LayoutModel",
          "model_module_version": "1.2.0",
          "state": {
            "_model_module": "@jupyter-widgets/base",
            "_model_module_version": "1.2.0",
            "_model_name": "LayoutModel",
            "_view_count": null,
            "_view_module": "@jupyter-widgets/base",
            "_view_module_version": "1.2.0",
            "_view_name": "LayoutView",
            "align_content": null,
            "align_items": null,
            "align_self": null,
            "border": null,
            "bottom": null,
            "display": null,
            "flex": null,
            "flex_flow": null,
            "grid_area": null,
            "grid_auto_columns": null,
            "grid_auto_flow": null,
            "grid_auto_rows": null,
            "grid_column": null,
            "grid_gap": null,
            "grid_row": null,
            "grid_template_areas": null,
            "grid_template_columns": null,
            "grid_template_rows": null,
            "height": null,
            "justify_content": null,
            "justify_items": null,
            "left": null,
            "margin": null,
            "max_height": null,
            "max_width": null,
            "min_height": null,
            "min_width": null,
            "object_fit": null,
            "object_position": null,
            "order": null,
            "overflow": null,
            "overflow_x": null,
            "overflow_y": null,
            "padding": null,
            "right": null,
            "top": null,
            "visibility": null,
            "width": null
          }
        },
        "9b30f5da2f484aaaaad56ac355e472b7": {
          "model_module": "@jupyter-widgets/controls",
          "model_name": "DescriptionStyleModel",
          "model_module_version": "1.5.0",
          "state": {
            "_model_module": "@jupyter-widgets/controls",
            "_model_module_version": "1.5.0",
            "_model_name": "DescriptionStyleModel",
            "_view_count": null,
            "_view_module": "@jupyter-widgets/base",
            "_view_module_version": "1.2.0",
            "_view_name": "StyleView",
            "description_width": ""
          }
        },
        "928f026442aa4b8da25e46170e3623ca": {
          "model_module": "@jupyter-widgets/base",
          "model_name": "LayoutModel",
          "model_module_version": "1.2.0",
          "state": {
            "_model_module": "@jupyter-widgets/base",
            "_model_module_version": "1.2.0",
            "_model_name": "LayoutModel",
            "_view_count": null,
            "_view_module": "@jupyter-widgets/base",
            "_view_module_version": "1.2.0",
            "_view_name": "LayoutView",
            "align_content": null,
            "align_items": null,
            "align_self": null,
            "border": null,
            "bottom": null,
            "display": null,
            "flex": null,
            "flex_flow": null,
            "grid_area": null,
            "grid_auto_columns": null,
            "grid_auto_flow": null,
            "grid_auto_rows": null,
            "grid_column": null,
            "grid_gap": null,
            "grid_row": null,
            "grid_template_areas": null,
            "grid_template_columns": null,
            "grid_template_rows": null,
            "height": null,
            "justify_content": null,
            "justify_items": null,
            "left": null,
            "margin": null,
            "max_height": null,
            "max_width": null,
            "min_height": null,
            "min_width": null,
            "object_fit": null,
            "object_position": null,
            "order": null,
            "overflow": null,
            "overflow_x": null,
            "overflow_y": null,
            "padding": null,
            "right": null,
            "top": null,
            "visibility": null,
            "width": null
          }
        },
        "2df3253868cf4758a6918fb5c1d33478": {
          "model_module": "@jupyter-widgets/controls",
          "model_name": "ProgressStyleModel",
          "model_module_version": "1.5.0",
          "state": {
            "_model_module": "@jupyter-widgets/controls",
            "_model_module_version": "1.5.0",
            "_model_name": "ProgressStyleModel",
            "_view_count": null,
            "_view_module": "@jupyter-widgets/base",
            "_view_module_version": "1.2.0",
            "_view_name": "StyleView",
            "bar_color": null,
            "description_width": ""
          }
        },
        "fc543329448d4497a7ef94e24a7511cd": {
          "model_module": "@jupyter-widgets/base",
          "model_name": "LayoutModel",
          "model_module_version": "1.2.0",
          "state": {
            "_model_module": "@jupyter-widgets/base",
            "_model_module_version": "1.2.0",
            "_model_name": "LayoutModel",
            "_view_count": null,
            "_view_module": "@jupyter-widgets/base",
            "_view_module_version": "1.2.0",
            "_view_name": "LayoutView",
            "align_content": null,
            "align_items": null,
            "align_self": null,
            "border": null,
            "bottom": null,
            "display": null,
            "flex": null,
            "flex_flow": null,
            "grid_area": null,
            "grid_auto_columns": null,
            "grid_auto_flow": null,
            "grid_auto_rows": null,
            "grid_column": null,
            "grid_gap": null,
            "grid_row": null,
            "grid_template_areas": null,
            "grid_template_columns": null,
            "grid_template_rows": null,
            "height": null,
            "justify_content": null,
            "justify_items": null,
            "left": null,
            "margin": null,
            "max_height": null,
            "max_width": null,
            "min_height": null,
            "min_width": null,
            "object_fit": null,
            "object_position": null,
            "order": null,
            "overflow": null,
            "overflow_x": null,
            "overflow_y": null,
            "padding": null,
            "right": null,
            "top": null,
            "visibility": null,
            "width": null
          }
        },
        "a0ab38782a854b80a4fe533b4e4a2dd5": {
          "model_module": "@jupyter-widgets/controls",
          "model_name": "DescriptionStyleModel",
          "model_module_version": "1.5.0",
          "state": {
            "_model_module": "@jupyter-widgets/controls",
            "_model_module_version": "1.5.0",
            "_model_name": "DescriptionStyleModel",
            "_view_count": null,
            "_view_module": "@jupyter-widgets/base",
            "_view_module_version": "1.2.0",
            "_view_name": "StyleView",
            "description_width": ""
          }
        },
        "adbba7395455435c886af5c44237b0d0": {
          "model_module": "@jupyter-widgets/controls",
          "model_name": "HBoxModel",
          "model_module_version": "1.5.0",
          "state": {
            "_dom_classes": [],
            "_model_module": "@jupyter-widgets/controls",
            "_model_module_version": "1.5.0",
            "_model_name": "HBoxModel",
            "_view_count": null,
            "_view_module": "@jupyter-widgets/controls",
            "_view_module_version": "1.5.0",
            "_view_name": "HBoxView",
            "box_style": "",
            "children": [
              "IPY_MODEL_849e63be301b4a298beb7548bf597988",
              "IPY_MODEL_2afc15af4ad7408996a802d8f4f3bc0a",
              "IPY_MODEL_bee01650403142d99944bca6cfd37218"
            ],
            "layout": "IPY_MODEL_5424e48a8b214307a63dbfb0a28dc51e"
          }
        },
        "849e63be301b4a298beb7548bf597988": {
          "model_module": "@jupyter-widgets/controls",
          "model_name": "HTMLModel",
          "model_module_version": "1.5.0",
          "state": {
            "_dom_classes": [],
            "_model_module": "@jupyter-widgets/controls",
            "_model_module_version": "1.5.0",
            "_model_name": "HTMLModel",
            "_view_count": null,
            "_view_module": "@jupyter-widgets/controls",
            "_view_module_version": "1.5.0",
            "_view_name": "HTMLView",
            "description": "",
            "description_tooltip": null,
            "layout": "IPY_MODEL_7935c99625574839935a97e36e221333",
            "placeholder": "​",
            "style": "IPY_MODEL_3185f7a0b7eb4f6eb61d82a0b51e6905",
            "value": "100%"
          }
        },
        "2afc15af4ad7408996a802d8f4f3bc0a": {
          "model_module": "@jupyter-widgets/controls",
          "model_name": "FloatProgressModel",
          "model_module_version": "1.5.0",
          "state": {
            "_dom_classes": [],
            "_model_module": "@jupyter-widgets/controls",
            "_model_module_version": "1.5.0",
            "_model_name": "FloatProgressModel",
            "_view_count": null,
            "_view_module": "@jupyter-widgets/controls",
            "_view_module_version": "1.5.0",
            "_view_name": "ProgressView",
            "bar_style": "success",
            "description": "",
            "description_tooltip": null,
            "layout": "IPY_MODEL_926889171dd943f399c889fdb058e9f0",
            "max": 1648877,
            "min": 0,
            "orientation": "horizontal",
            "style": "IPY_MODEL_9e25f06bb54b4b88b622a63a02647f4f",
            "value": 1648877
          }
        },
        "bee01650403142d99944bca6cfd37218": {
          "model_module": "@jupyter-widgets/controls",
          "model_name": "HTMLModel",
          "model_module_version": "1.5.0",
          "state": {
            "_dom_classes": [],
            "_model_module": "@jupyter-widgets/controls",
            "_model_module_version": "1.5.0",
            "_model_name": "HTMLModel",
            "_view_count": null,
            "_view_module": "@jupyter-widgets/controls",
            "_view_module_version": "1.5.0",
            "_view_name": "HTMLView",
            "description": "",
            "description_tooltip": null,
            "layout": "IPY_MODEL_377bd712df374c40866f8b49b86c355a",
            "placeholder": "​",
            "style": "IPY_MODEL_05c05b22ddd54935ba67375eade2b81d",
            "value": " 1648877/1648877 [00:00&lt;00:00, 39878973.81it/s]"
          }
        },
        "5424e48a8b214307a63dbfb0a28dc51e": {
          "model_module": "@jupyter-widgets/base",
          "model_name": "LayoutModel",
          "model_module_version": "1.2.0",
          "state": {
            "_model_module": "@jupyter-widgets/base",
            "_model_module_version": "1.2.0",
            "_model_name": "LayoutModel",
            "_view_count": null,
            "_view_module": "@jupyter-widgets/base",
            "_view_module_version": "1.2.0",
            "_view_name": "LayoutView",
            "align_content": null,
            "align_items": null,
            "align_self": null,
            "border": null,
            "bottom": null,
            "display": null,
            "flex": null,
            "flex_flow": null,
            "grid_area": null,
            "grid_auto_columns": null,
            "grid_auto_flow": null,
            "grid_auto_rows": null,
            "grid_column": null,
            "grid_gap": null,
            "grid_row": null,
            "grid_template_areas": null,
            "grid_template_columns": null,
            "grid_template_rows": null,
            "height": null,
            "justify_content": null,
            "justify_items": null,
            "left": null,
            "margin": null,
            "max_height": null,
            "max_width": null,
            "min_height": null,
            "min_width": null,
            "object_fit": null,
            "object_position": null,
            "order": null,
            "overflow": null,
            "overflow_x": null,
            "overflow_y": null,
            "padding": null,
            "right": null,
            "top": null,
            "visibility": null,
            "width": null
          }
        },
        "7935c99625574839935a97e36e221333": {
          "model_module": "@jupyter-widgets/base",
          "model_name": "LayoutModel",
          "model_module_version": "1.2.0",
          "state": {
            "_model_module": "@jupyter-widgets/base",
            "_model_module_version": "1.2.0",
            "_model_name": "LayoutModel",
            "_view_count": null,
            "_view_module": "@jupyter-widgets/base",
            "_view_module_version": "1.2.0",
            "_view_name": "LayoutView",
            "align_content": null,
            "align_items": null,
            "align_self": null,
            "border": null,
            "bottom": null,
            "display": null,
            "flex": null,
            "flex_flow": null,
            "grid_area": null,
            "grid_auto_columns": null,
            "grid_auto_flow": null,
            "grid_auto_rows": null,
            "grid_column": null,
            "grid_gap": null,
            "grid_row": null,
            "grid_template_areas": null,
            "grid_template_columns": null,
            "grid_template_rows": null,
            "height": null,
            "justify_content": null,
            "justify_items": null,
            "left": null,
            "margin": null,
            "max_height": null,
            "max_width": null,
            "min_height": null,
            "min_width": null,
            "object_fit": null,
            "object_position": null,
            "order": null,
            "overflow": null,
            "overflow_x": null,
            "overflow_y": null,
            "padding": null,
            "right": null,
            "top": null,
            "visibility": null,
            "width": null
          }
        },
        "3185f7a0b7eb4f6eb61d82a0b51e6905": {
          "model_module": "@jupyter-widgets/controls",
          "model_name": "DescriptionStyleModel",
          "model_module_version": "1.5.0",
          "state": {
            "_model_module": "@jupyter-widgets/controls",
            "_model_module_version": "1.5.0",
            "_model_name": "DescriptionStyleModel",
            "_view_count": null,
            "_view_module": "@jupyter-widgets/base",
            "_view_module_version": "1.2.0",
            "_view_name": "StyleView",
            "description_width": ""
          }
        },
        "926889171dd943f399c889fdb058e9f0": {
          "model_module": "@jupyter-widgets/base",
          "model_name": "LayoutModel",
          "model_module_version": "1.2.0",
          "state": {
            "_model_module": "@jupyter-widgets/base",
            "_model_module_version": "1.2.0",
            "_model_name": "LayoutModel",
            "_view_count": null,
            "_view_module": "@jupyter-widgets/base",
            "_view_module_version": "1.2.0",
            "_view_name": "LayoutView",
            "align_content": null,
            "align_items": null,
            "align_self": null,
            "border": null,
            "bottom": null,
            "display": null,
            "flex": null,
            "flex_flow": null,
            "grid_area": null,
            "grid_auto_columns": null,
            "grid_auto_flow": null,
            "grid_auto_rows": null,
            "grid_column": null,
            "grid_gap": null,
            "grid_row": null,
            "grid_template_areas": null,
            "grid_template_columns": null,
            "grid_template_rows": null,
            "height": null,
            "justify_content": null,
            "justify_items": null,
            "left": null,
            "margin": null,
            "max_height": null,
            "max_width": null,
            "min_height": null,
            "min_width": null,
            "object_fit": null,
            "object_position": null,
            "order": null,
            "overflow": null,
            "overflow_x": null,
            "overflow_y": null,
            "padding": null,
            "right": null,
            "top": null,
            "visibility": null,
            "width": null
          }
        },
        "9e25f06bb54b4b88b622a63a02647f4f": {
          "model_module": "@jupyter-widgets/controls",
          "model_name": "ProgressStyleModel",
          "model_module_version": "1.5.0",
          "state": {
            "_model_module": "@jupyter-widgets/controls",
            "_model_module_version": "1.5.0",
            "_model_name": "ProgressStyleModel",
            "_view_count": null,
            "_view_module": "@jupyter-widgets/base",
            "_view_module_version": "1.2.0",
            "_view_name": "StyleView",
            "bar_color": null,
            "description_width": ""
          }
        },
        "377bd712df374c40866f8b49b86c355a": {
          "model_module": "@jupyter-widgets/base",
          "model_name": "LayoutModel",
          "model_module_version": "1.2.0",
          "state": {
            "_model_module": "@jupyter-widgets/base",
            "_model_module_version": "1.2.0",
            "_model_name": "LayoutModel",
            "_view_count": null,
            "_view_module": "@jupyter-widgets/base",
            "_view_module_version": "1.2.0",
            "_view_name": "LayoutView",
            "align_content": null,
            "align_items": null,
            "align_self": null,
            "border": null,
            "bottom": null,
            "display": null,
            "flex": null,
            "flex_flow": null,
            "grid_area": null,
            "grid_auto_columns": null,
            "grid_auto_flow": null,
            "grid_auto_rows": null,
            "grid_column": null,
            "grid_gap": null,
            "grid_row": null,
            "grid_template_areas": null,
            "grid_template_columns": null,
            "grid_template_rows": null,
            "height": null,
            "justify_content": null,
            "justify_items": null,
            "left": null,
            "margin": null,
            "max_height": null,
            "max_width": null,
            "min_height": null,
            "min_width": null,
            "object_fit": null,
            "object_position": null,
            "order": null,
            "overflow": null,
            "overflow_x": null,
            "overflow_y": null,
            "padding": null,
            "right": null,
            "top": null,
            "visibility": null,
            "width": null
          }
        },
        "05c05b22ddd54935ba67375eade2b81d": {
          "model_module": "@jupyter-widgets/controls",
          "model_name": "DescriptionStyleModel",
          "model_module_version": "1.5.0",
          "state": {
            "_model_module": "@jupyter-widgets/controls",
            "_model_module_version": "1.5.0",
            "_model_name": "DescriptionStyleModel",
            "_view_count": null,
            "_view_module": "@jupyter-widgets/base",
            "_view_module_version": "1.2.0",
            "_view_name": "StyleView",
            "description_width": ""
          }
        },
        "db5b81a2a287493e81ecf76b1b6811a4": {
          "model_module": "@jupyter-widgets/controls",
          "model_name": "HBoxModel",
          "model_module_version": "1.5.0",
          "state": {
            "_dom_classes": [],
            "_model_module": "@jupyter-widgets/controls",
            "_model_module_version": "1.5.0",
            "_model_name": "HBoxModel",
            "_view_count": null,
            "_view_module": "@jupyter-widgets/controls",
            "_view_module_version": "1.5.0",
            "_view_name": "HBoxView",
            "box_style": "",
            "children": [
              "IPY_MODEL_7f1f3ef2271048519c46d6b65e7fe504",
              "IPY_MODEL_fb9c03683c894145b37a5ccae2430a9b",
              "IPY_MODEL_45b68b0757614d178111b33e8b00803e"
            ],
            "layout": "IPY_MODEL_04b2071e6ef446508980c9d3d14a393e"
          }
        },
        "7f1f3ef2271048519c46d6b65e7fe504": {
          "model_module": "@jupyter-widgets/controls",
          "model_name": "HTMLModel",
          "model_module_version": "1.5.0",
          "state": {
            "_dom_classes": [],
            "_model_module": "@jupyter-widgets/controls",
            "_model_module_version": "1.5.0",
            "_model_name": "HTMLModel",
            "_view_count": null,
            "_view_module": "@jupyter-widgets/controls",
            "_view_module_version": "1.5.0",
            "_view_name": "HTMLView",
            "description": "",
            "description_tooltip": null,
            "layout": "IPY_MODEL_731f961d75db4de7b20d4fc685dc42c4",
            "placeholder": "​",
            "style": "IPY_MODEL_cad8c22c84b6420a816dae74c09e72ea",
            "value": "100%"
          }
        },
        "fb9c03683c894145b37a5ccae2430a9b": {
          "model_module": "@jupyter-widgets/controls",
          "model_name": "FloatProgressModel",
          "model_module_version": "1.5.0",
          "state": {
            "_dom_classes": [],
            "_model_module": "@jupyter-widgets/controls",
            "_model_module_version": "1.5.0",
            "_model_name": "FloatProgressModel",
            "_view_count": null,
            "_view_module": "@jupyter-widgets/controls",
            "_view_module_version": "1.5.0",
            "_view_name": "ProgressView",
            "bar_style": "success",
            "description": "",
            "description_tooltip": null,
            "layout": "IPY_MODEL_b3d283933a404be6bb1d6c06a30b8017",
            "max": 4542,
            "min": 0,
            "orientation": "horizontal",
            "style": "IPY_MODEL_361b3480a9e54114bd8af79dd844bfad",
            "value": 4542
          }
        },
        "45b68b0757614d178111b33e8b00803e": {
          "model_module": "@jupyter-widgets/controls",
          "model_name": "HTMLModel",
          "model_module_version": "1.5.0",
          "state": {
            "_dom_classes": [],
            "_model_module": "@jupyter-widgets/controls",
            "_model_module_version": "1.5.0",
            "_model_name": "HTMLModel",
            "_view_count": null,
            "_view_module": "@jupyter-widgets/controls",
            "_view_module_version": "1.5.0",
            "_view_name": "HTMLView",
            "description": "",
            "description_tooltip": null,
            "layout": "IPY_MODEL_03d66e4488594dd78ec65a6c28953044",
            "placeholder": "​",
            "style": "IPY_MODEL_30c072f5ba8a4e60ac67abf36324f467",
            "value": " 4542/4542 [00:00&lt;00:00, 328576.36it/s]"
          }
        },
        "04b2071e6ef446508980c9d3d14a393e": {
          "model_module": "@jupyter-widgets/base",
          "model_name": "LayoutModel",
          "model_module_version": "1.2.0",
          "state": {
            "_model_module": "@jupyter-widgets/base",
            "_model_module_version": "1.2.0",
            "_model_name": "LayoutModel",
            "_view_count": null,
            "_view_module": "@jupyter-widgets/base",
            "_view_module_version": "1.2.0",
            "_view_name": "LayoutView",
            "align_content": null,
            "align_items": null,
            "align_self": null,
            "border": null,
            "bottom": null,
            "display": null,
            "flex": null,
            "flex_flow": null,
            "grid_area": null,
            "grid_auto_columns": null,
            "grid_auto_flow": null,
            "grid_auto_rows": null,
            "grid_column": null,
            "grid_gap": null,
            "grid_row": null,
            "grid_template_areas": null,
            "grid_template_columns": null,
            "grid_template_rows": null,
            "height": null,
            "justify_content": null,
            "justify_items": null,
            "left": null,
            "margin": null,
            "max_height": null,
            "max_width": null,
            "min_height": null,
            "min_width": null,
            "object_fit": null,
            "object_position": null,
            "order": null,
            "overflow": null,
            "overflow_x": null,
            "overflow_y": null,
            "padding": null,
            "right": null,
            "top": null,
            "visibility": null,
            "width": null
          }
        },
        "731f961d75db4de7b20d4fc685dc42c4": {
          "model_module": "@jupyter-widgets/base",
          "model_name": "LayoutModel",
          "model_module_version": "1.2.0",
          "state": {
            "_model_module": "@jupyter-widgets/base",
            "_model_module_version": "1.2.0",
            "_model_name": "LayoutModel",
            "_view_count": null,
            "_view_module": "@jupyter-widgets/base",
            "_view_module_version": "1.2.0",
            "_view_name": "LayoutView",
            "align_content": null,
            "align_items": null,
            "align_self": null,
            "border": null,
            "bottom": null,
            "display": null,
            "flex": null,
            "flex_flow": null,
            "grid_area": null,
            "grid_auto_columns": null,
            "grid_auto_flow": null,
            "grid_auto_rows": null,
            "grid_column": null,
            "grid_gap": null,
            "grid_row": null,
            "grid_template_areas": null,
            "grid_template_columns": null,
            "grid_template_rows": null,
            "height": null,
            "justify_content": null,
            "justify_items": null,
            "left": null,
            "margin": null,
            "max_height": null,
            "max_width": null,
            "min_height": null,
            "min_width": null,
            "object_fit": null,
            "object_position": null,
            "order": null,
            "overflow": null,
            "overflow_x": null,
            "overflow_y": null,
            "padding": null,
            "right": null,
            "top": null,
            "visibility": null,
            "width": null
          }
        },
        "cad8c22c84b6420a816dae74c09e72ea": {
          "model_module": "@jupyter-widgets/controls",
          "model_name": "DescriptionStyleModel",
          "model_module_version": "1.5.0",
          "state": {
            "_model_module": "@jupyter-widgets/controls",
            "_model_module_version": "1.5.0",
            "_model_name": "DescriptionStyleModel",
            "_view_count": null,
            "_view_module": "@jupyter-widgets/base",
            "_view_module_version": "1.2.0",
            "_view_name": "StyleView",
            "description_width": ""
          }
        },
        "b3d283933a404be6bb1d6c06a30b8017": {
          "model_module": "@jupyter-widgets/base",
          "model_name": "LayoutModel",
          "model_module_version": "1.2.0",
          "state": {
            "_model_module": "@jupyter-widgets/base",
            "_model_module_version": "1.2.0",
            "_model_name": "LayoutModel",
            "_view_count": null,
            "_view_module": "@jupyter-widgets/base",
            "_view_module_version": "1.2.0",
            "_view_name": "LayoutView",
            "align_content": null,
            "align_items": null,
            "align_self": null,
            "border": null,
            "bottom": null,
            "display": null,
            "flex": null,
            "flex_flow": null,
            "grid_area": null,
            "grid_auto_columns": null,
            "grid_auto_flow": null,
            "grid_auto_rows": null,
            "grid_column": null,
            "grid_gap": null,
            "grid_row": null,
            "grid_template_areas": null,
            "grid_template_columns": null,
            "grid_template_rows": null,
            "height": null,
            "justify_content": null,
            "justify_items": null,
            "left": null,
            "margin": null,
            "max_height": null,
            "max_width": null,
            "min_height": null,
            "min_width": null,
            "object_fit": null,
            "object_position": null,
            "order": null,
            "overflow": null,
            "overflow_x": null,
            "overflow_y": null,
            "padding": null,
            "right": null,
            "top": null,
            "visibility": null,
            "width": null
          }
        },
        "361b3480a9e54114bd8af79dd844bfad": {
          "model_module": "@jupyter-widgets/controls",
          "model_name": "ProgressStyleModel",
          "model_module_version": "1.5.0",
          "state": {
            "_model_module": "@jupyter-widgets/controls",
            "_model_module_version": "1.5.0",
            "_model_name": "ProgressStyleModel",
            "_view_count": null,
            "_view_module": "@jupyter-widgets/base",
            "_view_module_version": "1.2.0",
            "_view_name": "StyleView",
            "bar_color": null,
            "description_width": ""
          }
        },
        "03d66e4488594dd78ec65a6c28953044": {
          "model_module": "@jupyter-widgets/base",
          "model_name": "LayoutModel",
          "model_module_version": "1.2.0",
          "state": {
            "_model_module": "@jupyter-widgets/base",
            "_model_module_version": "1.2.0",
            "_model_name": "LayoutModel",
            "_view_count": null,
            "_view_module": "@jupyter-widgets/base",
            "_view_module_version": "1.2.0",
            "_view_name": "LayoutView",
            "align_content": null,
            "align_items": null,
            "align_self": null,
            "border": null,
            "bottom": null,
            "display": null,
            "flex": null,
            "flex_flow": null,
            "grid_area": null,
            "grid_auto_columns": null,
            "grid_auto_flow": null,
            "grid_auto_rows": null,
            "grid_column": null,
            "grid_gap": null,
            "grid_row": null,
            "grid_template_areas": null,
            "grid_template_columns": null,
            "grid_template_rows": null,
            "height": null,
            "justify_content": null,
            "justify_items": null,
            "left": null,
            "margin": null,
            "max_height": null,
            "max_width": null,
            "min_height": null,
            "min_width": null,
            "object_fit": null,
            "object_position": null,
            "order": null,
            "overflow": null,
            "overflow_x": null,
            "overflow_y": null,
            "padding": null,
            "right": null,
            "top": null,
            "visibility": null,
            "width": null
          }
        },
        "30c072f5ba8a4e60ac67abf36324f467": {
          "model_module": "@jupyter-widgets/controls",
          "model_name": "DescriptionStyleModel",
          "model_module_version": "1.5.0",
          "state": {
            "_model_module": "@jupyter-widgets/controls",
            "_model_module_version": "1.5.0",
            "_model_name": "DescriptionStyleModel",
            "_view_count": null,
            "_view_module": "@jupyter-widgets/base",
            "_view_module_version": "1.2.0",
            "_view_name": "StyleView",
            "description_width": ""
          }
        }
      }
    }
  },
  "nbformat": 4,
  "nbformat_minor": 5
}